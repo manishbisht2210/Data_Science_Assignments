{
 "cells": [
  {
   "cell_type": "code",
   "execution_count": 1,
   "metadata": {},
   "outputs": [],
   "source": [
    "# Supress Warnings\n",
    "\n",
    "import warnings\n",
    "warnings.filterwarnings('ignore')"
   ]
  },
  {
   "cell_type": "code",
   "execution_count": 2,
   "metadata": {},
   "outputs": [],
   "source": [
    "# Import the numpy and pandas packages\n",
    "\n",
    "import numpy as np\n",
    "import pandas as pd"
   ]
  },
  {
   "cell_type": "markdown",
   "metadata": {},
   "source": [
    "## Checkpoint 1: Data Cleaning\n",
    "\n",
    "Import and read the companies.txt and rounds2.csv. Store it in a variables called `companies` and `rounds2`."
   ]
  },
  {
   "cell_type": "code",
   "execution_count": 3,
   "metadata": {},
   "outputs": [
    {
     "data": {
      "text/html": [
       "<div>\n",
       "<style scoped>\n",
       "    .dataframe tbody tr th:only-of-type {\n",
       "        vertical-align: middle;\n",
       "    }\n",
       "\n",
       "    .dataframe tbody tr th {\n",
       "        vertical-align: top;\n",
       "    }\n",
       "\n",
       "    .dataframe thead th {\n",
       "        text-align: right;\n",
       "    }\n",
       "</style>\n",
       "<table border=\"1\" class=\"dataframe\">\n",
       "  <thead>\n",
       "    <tr style=\"text-align: right;\">\n",
       "      <th></th>\n",
       "      <th>permalink</th>\n",
       "      <th>name</th>\n",
       "      <th>homepage_url</th>\n",
       "      <th>category_list</th>\n",
       "      <th>status</th>\n",
       "      <th>country_code</th>\n",
       "      <th>state_code</th>\n",
       "      <th>region</th>\n",
       "      <th>city</th>\n",
       "      <th>founded_at</th>\n",
       "    </tr>\n",
       "  </thead>\n",
       "  <tbody>\n",
       "    <tr>\n",
       "      <th>0</th>\n",
       "      <td>/Organization/-Fame</td>\n",
       "      <td>#fame</td>\n",
       "      <td>http://livfame.com</td>\n",
       "      <td>Media</td>\n",
       "      <td>operating</td>\n",
       "      <td>IND</td>\n",
       "      <td>16</td>\n",
       "      <td>Mumbai</td>\n",
       "      <td>Mumbai</td>\n",
       "      <td>NaN</td>\n",
       "    </tr>\n",
       "    <tr>\n",
       "      <th>1</th>\n",
       "      <td>/Organization/-Qounter</td>\n",
       "      <td>:Qounter</td>\n",
       "      <td>http://www.qounter.com</td>\n",
       "      <td>Application Platforms|Real Time|Social Network...</td>\n",
       "      <td>operating</td>\n",
       "      <td>USA</td>\n",
       "      <td>DE</td>\n",
       "      <td>DE - Other</td>\n",
       "      <td>Delaware City</td>\n",
       "      <td>04-09-2014</td>\n",
       "    </tr>\n",
       "    <tr>\n",
       "      <th>2</th>\n",
       "      <td>/Organization/-The-One-Of-Them-Inc-</td>\n",
       "      <td>(THE) ONE of THEM,Inc.</td>\n",
       "      <td>http://oneofthem.jp</td>\n",
       "      <td>Apps|Games|Mobile</td>\n",
       "      <td>operating</td>\n",
       "      <td>NaN</td>\n",
       "      <td>NaN</td>\n",
       "      <td>NaN</td>\n",
       "      <td>NaN</td>\n",
       "      <td>NaN</td>\n",
       "    </tr>\n",
       "    <tr>\n",
       "      <th>3</th>\n",
       "      <td>/Organization/0-6-Com</td>\n",
       "      <td>0-6.com</td>\n",
       "      <td>http://www.0-6.com</td>\n",
       "      <td>Curated Web</td>\n",
       "      <td>operating</td>\n",
       "      <td>CHN</td>\n",
       "      <td>22</td>\n",
       "      <td>Beijing</td>\n",
       "      <td>Beijing</td>\n",
       "      <td>01-01-2007</td>\n",
       "    </tr>\n",
       "    <tr>\n",
       "      <th>4</th>\n",
       "      <td>/Organization/004-Technologies</td>\n",
       "      <td>004 Technologies</td>\n",
       "      <td>http://004gmbh.de/en/004-interact</td>\n",
       "      <td>Software</td>\n",
       "      <td>operating</td>\n",
       "      <td>USA</td>\n",
       "      <td>IL</td>\n",
       "      <td>Springfield, Illinois</td>\n",
       "      <td>Champaign</td>\n",
       "      <td>01-01-2010</td>\n",
       "    </tr>\n",
       "  </tbody>\n",
       "</table>\n",
       "</div>"
      ],
      "text/plain": [
       "                             permalink                    name  \\\n",
       "0                  /Organization/-Fame                   #fame   \n",
       "1               /Organization/-Qounter                :Qounter   \n",
       "2  /Organization/-The-One-Of-Them-Inc-  (THE) ONE of THEM,Inc.   \n",
       "3                /Organization/0-6-Com                 0-6.com   \n",
       "4       /Organization/004-Technologies        004 Technologies   \n",
       "\n",
       "                        homepage_url  \\\n",
       "0                 http://livfame.com   \n",
       "1             http://www.qounter.com   \n",
       "2                http://oneofthem.jp   \n",
       "3                 http://www.0-6.com   \n",
       "4  http://004gmbh.de/en/004-interact   \n",
       "\n",
       "                                       category_list     status country_code  \\\n",
       "0                                              Media  operating          IND   \n",
       "1  Application Platforms|Real Time|Social Network...  operating          USA   \n",
       "2                                  Apps|Games|Mobile  operating          NaN   \n",
       "3                                        Curated Web  operating          CHN   \n",
       "4                                           Software  operating          USA   \n",
       "\n",
       "  state_code                 region           city  founded_at  \n",
       "0         16                 Mumbai         Mumbai         NaN  \n",
       "1         DE             DE - Other  Delaware City  04-09-2014  \n",
       "2        NaN                    NaN            NaN         NaN  \n",
       "3         22                Beijing        Beijing  01-01-2007  \n",
       "4         IL  Springfield, Illinois      Champaign  01-01-2010  "
      ]
     },
     "execution_count": 3,
     "metadata": {},
     "output_type": "execute_result"
    }
   ],
   "source": [
    "companies = pd.read_csv(\"companies.txt\", sep=\"\\t\", encoding = \"ISO-8859-1\")\n",
    "companies.head()"
   ]
  },
  {
   "cell_type": "code",
   "execution_count": 4,
   "metadata": {},
   "outputs": [
    {
     "data": {
      "text/html": [
       "<div>\n",
       "<style scoped>\n",
       "    .dataframe tbody tr th:only-of-type {\n",
       "        vertical-align: middle;\n",
       "    }\n",
       "\n",
       "    .dataframe tbody tr th {\n",
       "        vertical-align: top;\n",
       "    }\n",
       "\n",
       "    .dataframe thead th {\n",
       "        text-align: right;\n",
       "    }\n",
       "</style>\n",
       "<table border=\"1\" class=\"dataframe\">\n",
       "  <thead>\n",
       "    <tr style=\"text-align: right;\">\n",
       "      <th></th>\n",
       "      <th>company_permalink</th>\n",
       "      <th>funding_round_permalink</th>\n",
       "      <th>funding_round_type</th>\n",
       "      <th>funding_round_code</th>\n",
       "      <th>funded_at</th>\n",
       "      <th>raised_amount_usd</th>\n",
       "    </tr>\n",
       "  </thead>\n",
       "  <tbody>\n",
       "    <tr>\n",
       "      <th>0</th>\n",
       "      <td>/organization/-fame</td>\n",
       "      <td>/funding-round/9a01d05418af9f794eebff7ace91f638</td>\n",
       "      <td>venture</td>\n",
       "      <td>B</td>\n",
       "      <td>05-01-2015</td>\n",
       "      <td>10000000.0</td>\n",
       "    </tr>\n",
       "    <tr>\n",
       "      <th>1</th>\n",
       "      <td>/ORGANIZATION/-QOUNTER</td>\n",
       "      <td>/funding-round/22dacff496eb7acb2b901dec1dfe5633</td>\n",
       "      <td>venture</td>\n",
       "      <td>A</td>\n",
       "      <td>14-10-2014</td>\n",
       "      <td>NaN</td>\n",
       "    </tr>\n",
       "    <tr>\n",
       "      <th>2</th>\n",
       "      <td>/organization/-qounter</td>\n",
       "      <td>/funding-round/b44fbb94153f6cdef13083530bb48030</td>\n",
       "      <td>seed</td>\n",
       "      <td>NaN</td>\n",
       "      <td>01-03-2014</td>\n",
       "      <td>700000.0</td>\n",
       "    </tr>\n",
       "    <tr>\n",
       "      <th>3</th>\n",
       "      <td>/ORGANIZATION/-THE-ONE-OF-THEM-INC-</td>\n",
       "      <td>/funding-round/650b8f704416801069bb178a1418776b</td>\n",
       "      <td>venture</td>\n",
       "      <td>B</td>\n",
       "      <td>30-01-2014</td>\n",
       "      <td>3406878.0</td>\n",
       "    </tr>\n",
       "    <tr>\n",
       "      <th>4</th>\n",
       "      <td>/organization/0-6-com</td>\n",
       "      <td>/funding-round/5727accaeaa57461bd22a9bdd945382d</td>\n",
       "      <td>venture</td>\n",
       "      <td>A</td>\n",
       "      <td>19-03-2008</td>\n",
       "      <td>2000000.0</td>\n",
       "    </tr>\n",
       "  </tbody>\n",
       "</table>\n",
       "</div>"
      ],
      "text/plain": [
       "                     company_permalink  \\\n",
       "0                  /organization/-fame   \n",
       "1               /ORGANIZATION/-QOUNTER   \n",
       "2               /organization/-qounter   \n",
       "3  /ORGANIZATION/-THE-ONE-OF-THEM-INC-   \n",
       "4                /organization/0-6-com   \n",
       "\n",
       "                           funding_round_permalink funding_round_type  \\\n",
       "0  /funding-round/9a01d05418af9f794eebff7ace91f638            venture   \n",
       "1  /funding-round/22dacff496eb7acb2b901dec1dfe5633            venture   \n",
       "2  /funding-round/b44fbb94153f6cdef13083530bb48030               seed   \n",
       "3  /funding-round/650b8f704416801069bb178a1418776b            venture   \n",
       "4  /funding-round/5727accaeaa57461bd22a9bdd945382d            venture   \n",
       "\n",
       "  funding_round_code   funded_at  raised_amount_usd  \n",
       "0                  B  05-01-2015         10000000.0  \n",
       "1                  A  14-10-2014                NaN  \n",
       "2                NaN  01-03-2014           700000.0  \n",
       "3                  B  30-01-2014          3406878.0  \n",
       "4                  A  19-03-2008          2000000.0  "
      ]
     },
     "execution_count": 4,
     "metadata": {},
     "output_type": "execute_result"
    }
   ],
   "source": [
    "rounds2 = pd.read_csv(\"rounds2.csv\", encoding = \"ISO-8859-1\")\n",
    "rounds2.head()"
   ]
  },
  {
   "cell_type": "code",
   "execution_count": 5,
   "metadata": {},
   "outputs": [],
   "source": [
    "# Encoding and decoding company_permalink column to remove special characters and converting it to lower case\n",
    "\n",
    "rounds2.company_permalink = rounds2.company_permalink.str.encode('utf-8').str.decode('ascii', 'ignore').str.lower()"
   ]
  },
  {
   "cell_type": "code",
   "execution_count": 6,
   "metadata": {},
   "outputs": [
    {
     "data": {
      "text/plain": [
       "66368"
      ]
     },
     "execution_count": 6,
     "metadata": {},
     "output_type": "execute_result"
    }
   ],
   "source": [
    "# Counting the unique values in company_permalink of rounds2\n",
    "\n",
    "rounds2.company_permalink.nunique()"
   ]
  },
  {
   "cell_type": "code",
   "execution_count": 7,
   "metadata": {},
   "outputs": [],
   "source": [
    "# Encoding and decoding permalink column to remove special characters and converting it to lower case\n",
    "\n",
    "companies.permalink = companies.permalink.str.encode('utf-8').str.decode('ascii', 'ignore').str.lower()"
   ]
  },
  {
   "cell_type": "code",
   "execution_count": 8,
   "metadata": {},
   "outputs": [
    {
     "data": {
      "text/plain": [
       "66368"
      ]
     },
     "execution_count": 8,
     "metadata": {},
     "output_type": "execute_result"
    }
   ],
   "source": [
    "# Counting the unique values in permalink of companies\n",
    "\n",
    "companies.permalink.nunique()"
   ]
  },
  {
   "cell_type": "code",
   "execution_count": 9,
   "metadata": {},
   "outputs": [
    {
     "name": "stdout",
     "output_type": "stream",
     "text": [
      "<class 'pandas.core.frame.DataFrame'>\n",
      "RangeIndex: 66368 entries, 0 to 66367\n",
      "Data columns (total 10 columns):\n",
      "permalink        66368 non-null object\n",
      "name             66367 non-null object\n",
      "homepage_url     61310 non-null object\n",
      "category_list    63220 non-null object\n",
      "status           66368 non-null object\n",
      "country_code     59410 non-null object\n",
      "state_code       57821 non-null object\n",
      "region           58338 non-null object\n",
      "city             58340 non-null object\n",
      "founded_at       51147 non-null object\n",
      "dtypes: object(10)\n",
      "memory usage: 5.1+ MB\n"
     ]
    }
   ],
   "source": [
    "# Inspecting companies dataframe\n",
    "\n",
    "companies.info()\n",
    "\n",
    "# As Companies has total rows 66368 and only two column has all the value (i.e permalink and status)\n",
    "# By looking at data status has duplicate values and permalink doesnot have any duplicate value\n",
    "# We can consider permalink as unique for each company"
   ]
  },
  {
   "cell_type": "code",
   "execution_count": 10,
   "metadata": {},
   "outputs": [
    {
     "name": "stdout",
     "output_type": "stream",
     "text": [
      "<class 'pandas.core.frame.DataFrame'>\n",
      "RangeIndex: 114949 entries, 0 to 114948\n",
      "Data columns (total 6 columns):\n",
      "company_permalink          114949 non-null object\n",
      "funding_round_permalink    114949 non-null object\n",
      "funding_round_type         114949 non-null object\n",
      "funding_round_code         31140 non-null object\n",
      "funded_at                  114949 non-null object\n",
      "raised_amount_usd          94959 non-null float64\n",
      "dtypes: float64(1), object(5)\n",
      "memory usage: 5.3+ MB\n"
     ]
    }
   ],
   "source": [
    "rounds2.info()"
   ]
  },
  {
   "cell_type": "code",
   "execution_count": 11,
   "metadata": {},
   "outputs": [
    {
     "data": {
      "text/plain": [
       "set()"
      ]
     },
     "execution_count": 11,
     "metadata": {},
     "output_type": "execute_result"
    }
   ],
   "source": [
    "# Checking difference in company_permalink column of round2 dataframe and permalink column of companies dataframe\n",
    "\n",
    "set(rounds2.company_permalink.tolist())-set(companies.permalink.tolist())\n",
    "\n",
    "# We the empty set hence\n",
    "# All companies in round2 is in companies"
   ]
  },
  {
   "cell_type": "code",
   "execution_count": 12,
   "metadata": {},
   "outputs": [],
   "source": [
    "# Renaming the column company_permalink to permalink of rounds2 dataframe\n",
    "\n",
    "rounds2.rename(columns={'company_permalink': 'permalink'}, inplace=True)"
   ]
  },
  {
   "cell_type": "code",
   "execution_count": 13,
   "metadata": {},
   "outputs": [],
   "source": [
    "# Merging rounds2 and companies dataframe on permalink\n",
    "\n",
    "master_frame = pd.merge(rounds2, companies, how='inner', on='permalink')"
   ]
  },
  {
   "cell_type": "code",
   "execution_count": 14,
   "metadata": {},
   "outputs": [
    {
     "name": "stdout",
     "output_type": "stream",
     "text": [
      "<class 'pandas.core.frame.DataFrame'>\n",
      "Int64Index: 114949 entries, 0 to 114948\n",
      "Data columns (total 15 columns):\n",
      "permalink                  114949 non-null object\n",
      "funding_round_permalink    114949 non-null object\n",
      "funding_round_type         114949 non-null object\n",
      "funding_round_code         31140 non-null object\n",
      "funded_at                  114949 non-null object\n",
      "raised_amount_usd          94959 non-null float64\n",
      "name                       114948 non-null object\n",
      "homepage_url               108815 non-null object\n",
      "category_list              111539 non-null object\n",
      "status                     114949 non-null object\n",
      "country_code               106271 non-null object\n",
      "state_code                 104003 non-null object\n",
      "region                     104782 non-null object\n",
      "city                       104785 non-null object\n",
      "founded_at                 94428 non-null object\n",
      "dtypes: float64(1), object(14)\n",
      "memory usage: 14.0+ MB\n"
     ]
    }
   ],
   "source": [
    "# Finding the observations of master_frame\n",
    "\n",
    "master_frame.info()"
   ]
  },
  {
   "cell_type": "code",
   "execution_count": 15,
   "metadata": {},
   "outputs": [
    {
     "name": "stdout",
     "output_type": "stream",
     "text": [
      "<class 'pandas.core.frame.DataFrame'>\n",
      "Int64Index: 114949 entries, 0 to 114948\n",
      "Data columns (total 6 columns):\n",
      "permalink             114949 non-null object\n",
      "funding_round_type    114949 non-null object\n",
      "raised_amount_usd     94959 non-null float64\n",
      "category_list         111539 non-null object\n",
      "country_code          106271 non-null object\n",
      "city                  104785 non-null object\n",
      "dtypes: float64(1), object(5)\n",
      "memory usage: 6.1+ MB\n"
     ]
    }
   ],
   "source": [
    "# Removing unwanted columns from master_frame\n",
    "\n",
    "master_frame.drop('funding_round_permalink', axis=1, inplace= True)\n",
    "master_frame.drop('funding_round_code', axis=1, inplace= True)\n",
    "master_frame.drop('funded_at', axis=1, inplace= True)\n",
    "master_frame.drop('name', axis=1, inplace= True)\n",
    "master_frame.drop('homepage_url', axis=1, inplace= True)\n",
    "master_frame.drop('status', axis=1, inplace= True)\n",
    "master_frame.drop('state_code', axis=1, inplace= True)\n",
    "master_frame.drop('region', axis=1, inplace= True)\n",
    "master_frame.drop('founded_at', axis=1, inplace= True)\n",
    "\n",
    "master_frame.info()"
   ]
  },
  {
   "cell_type": "markdown",
   "metadata": {},
   "source": [
    "## Checkpoint 2: Funding Type Analysis"
   ]
  },
  {
   "cell_type": "code",
   "execution_count": 16,
   "metadata": {},
   "outputs": [
    {
     "data": {
      "text/plain": [
       "permalink                 0\n",
       "funding_round_type        0\n",
       "raised_amount_usd     19990\n",
       "category_list          3410\n",
       "country_code           8678\n",
       "city                  10164\n",
       "dtype: int64"
      ]
     },
     "execution_count": 16,
     "metadata": {},
     "output_type": "execute_result"
    }
   ],
   "source": [
    "# Checking null values\n",
    "\n",
    "master_frame.isnull().sum()"
   ]
  },
  {
   "cell_type": "code",
   "execution_count": 17,
   "metadata": {},
   "outputs": [
    {
     "data": {
      "text/plain": [
       "permalink                0\n",
       "funding_round_type       0\n",
       "raised_amount_usd        0\n",
       "category_list         1044\n",
       "country_code          5851\n",
       "city                  7045\n",
       "dtype: int64"
      ]
     },
     "execution_count": 17,
     "metadata": {},
     "output_type": "execute_result"
    }
   ],
   "source": [
    "# Removing rows with null value in raised_amount_usd\n",
    "\n",
    "master_frame = master_frame[~np.isnan(master_frame['raised_amount_usd'])]\n",
    "master_frame.isnull().sum()"
   ]
  },
  {
   "cell_type": "code",
   "execution_count": 18,
   "metadata": {},
   "outputs": [],
   "source": [
    "# Creating the groups in master_frame by funding_round_type\n",
    "\n",
    "master_frame_by_funding_amount = master_frame.groupby('funding_round_type')"
   ]
  },
  {
   "cell_type": "code",
   "execution_count": 19,
   "metadata": {},
   "outputs": [
    {
     "data": {
      "text/plain": [
       "funding_round_type\n",
       "post_ipo_debt            1.687046e+08\n",
       "post_ipo_equity          8.218249e+07\n",
       "secondary_market         7.964963e+07\n",
       "private_equity           7.330859e+07\n",
       "undisclosed              1.924237e+07\n",
       "debt_financing           1.704353e+07\n",
       "venture                  1.174895e+07\n",
       "grant                    4.300576e+06\n",
       "convertible_note         1.453439e+06\n",
       "product_crowdfunding     1.363131e+06\n",
       "angel                    9.586945e+05\n",
       "seed                     7.198180e+05\n",
       "equity_crowdfunding      5.383682e+05\n",
       "non_equity_assistance    4.112031e+05\n",
       "Name: raised_amount_usd, dtype: float64"
      ]
     },
     "execution_count": 19,
     "metadata": {},
     "output_type": "execute_result"
    }
   ],
   "source": [
    "# Finding the average of raised_amount_usd in funding round type groups\n",
    "\n",
    "master_frame_by_funding_amount['raised_amount_usd'].mean().sort_values(ascending = False)\n",
    "\n",
    "# Venture has the highest amoung (private_equity, venture, angel, seed) and in range of 5 million to 15 millions"
   ]
  },
  {
   "cell_type": "markdown",
   "metadata": {},
   "source": [
    "## Checkpoint 3: Funding Type Analysis"
   ]
  },
  {
   "cell_type": "code",
   "execution_count": 20,
   "metadata": {},
   "outputs": [
    {
     "data": {
      "text/html": [
       "<div>\n",
       "<style scoped>\n",
       "    .dataframe tbody tr th:only-of-type {\n",
       "        vertical-align: middle;\n",
       "    }\n",
       "\n",
       "    .dataframe tbody tr th {\n",
       "        vertical-align: top;\n",
       "    }\n",
       "\n",
       "    .dataframe thead th {\n",
       "        text-align: right;\n",
       "    }\n",
       "</style>\n",
       "<table border=\"1\" class=\"dataframe\">\n",
       "  <thead>\n",
       "    <tr style=\"text-align: right;\">\n",
       "      <th></th>\n",
       "      <th>permalink</th>\n",
       "      <th>funding_round_type</th>\n",
       "      <th>raised_amount_usd</th>\n",
       "      <th>category_list</th>\n",
       "      <th>country_code</th>\n",
       "      <th>city</th>\n",
       "    </tr>\n",
       "  </thead>\n",
       "  <tbody>\n",
       "    <tr>\n",
       "      <th>0</th>\n",
       "      <td>/organization/-fame</td>\n",
       "      <td>venture</td>\n",
       "      <td>10000000.0</td>\n",
       "      <td>Media</td>\n",
       "      <td>IND</td>\n",
       "      <td>Mumbai</td>\n",
       "    </tr>\n",
       "    <tr>\n",
       "      <th>3</th>\n",
       "      <td>/organization/-the-one-of-them-inc-</td>\n",
       "      <td>venture</td>\n",
       "      <td>3406878.0</td>\n",
       "      <td>Apps|Games|Mobile</td>\n",
       "      <td>NaN</td>\n",
       "      <td>NaN</td>\n",
       "    </tr>\n",
       "    <tr>\n",
       "      <th>4</th>\n",
       "      <td>/organization/0-6-com</td>\n",
       "      <td>venture</td>\n",
       "      <td>2000000.0</td>\n",
       "      <td>Curated Web</td>\n",
       "      <td>CHN</td>\n",
       "      <td>Beijing</td>\n",
       "    </tr>\n",
       "    <tr>\n",
       "      <th>8</th>\n",
       "      <td>/organization/0ndine-biomedical-inc</td>\n",
       "      <td>venture</td>\n",
       "      <td>719491.0</td>\n",
       "      <td>Biotechnology</td>\n",
       "      <td>CAN</td>\n",
       "      <td>Vancouver</td>\n",
       "    </tr>\n",
       "    <tr>\n",
       "      <th>10</th>\n",
       "      <td>/organization/0xdata</td>\n",
       "      <td>venture</td>\n",
       "      <td>20000000.0</td>\n",
       "      <td>Analytics</td>\n",
       "      <td>USA</td>\n",
       "      <td>Mountain View</td>\n",
       "    </tr>\n",
       "  </tbody>\n",
       "</table>\n",
       "</div>"
      ],
      "text/plain": [
       "                              permalink funding_round_type  raised_amount_usd  \\\n",
       "0                   /organization/-fame            venture         10000000.0   \n",
       "3   /organization/-the-one-of-them-inc-            venture          3406878.0   \n",
       "4                 /organization/0-6-com            venture          2000000.0   \n",
       "8   /organization/0ndine-biomedical-inc            venture           719491.0   \n",
       "10                 /organization/0xdata            venture         20000000.0   \n",
       "\n",
       "        category_list country_code           city  \n",
       "0               Media          IND         Mumbai  \n",
       "3   Apps|Games|Mobile          NaN            NaN  \n",
       "4         Curated Web          CHN        Beijing  \n",
       "8       Biotechnology          CAN      Vancouver  \n",
       "10          Analytics          USA  Mountain View  "
      ]
     },
     "execution_count": 20,
     "metadata": {},
     "output_type": "execute_result"
    }
   ],
   "source": [
    "# Creating new data frame master_frame_for_venture containing funding_round_tye Venture only\n",
    "\n",
    "master_frame_for_venture = master_frame.loc[master_frame.funding_round_type == 'venture']\n",
    "master_frame_for_venture.head()"
   ]
  },
  {
   "cell_type": "code",
   "execution_count": 21,
   "metadata": {},
   "outputs": [],
   "source": [
    "# Grouping master_frame_for_venture by country_code\n",
    "\n",
    "master_frame_by_country = master_frame_for_venture.groupby('country_code')"
   ]
  },
  {
   "cell_type": "code",
   "execution_count": 22,
   "metadata": {},
   "outputs": [
    {
     "data": {
      "text/plain": [
       "country_code\n",
       "USA    4.225108e+11\n",
       "CHN    3.983542e+10\n",
       "GBR    2.024563e+10\n",
       "IND    1.439186e+10\n",
       "CAN    9.583332e+09\n",
       "FRA    7.259537e+09\n",
       "ISR    6.907515e+09\n",
       "DEU    6.346960e+09\n",
       "JPN    3.363677e+09\n",
       "Name: raised_amount_usd, dtype: float64"
      ]
     },
     "execution_count": 22,
     "metadata": {},
     "output_type": "execute_result"
    }
   ],
   "source": [
    "# Creating new dataframe named top9 with the top nine countries based on the total investment amount each country has received\n",
    "\n",
    "top9=master_frame_by_country.raised_amount_usd.sum().sort_values(ascending = False).head(9)\n",
    "top9\n",
    "\n",
    "# Top three English-speaking countries are :- USA, GBR, IND"
   ]
  },
  {
   "cell_type": "markdown",
   "metadata": {},
   "source": [
    "## Checkpoint 4: Sector Analysis 1"
   ]
  },
  {
   "cell_type": "markdown",
   "metadata": {},
   "source": [
    "### Reading mapping.csv and storing in variable `mapping`"
   ]
  },
  {
   "cell_type": "code",
   "execution_count": 23,
   "metadata": {},
   "outputs": [
    {
     "data": {
      "text/html": [
       "<div>\n",
       "<style scoped>\n",
       "    .dataframe tbody tr th:only-of-type {\n",
       "        vertical-align: middle;\n",
       "    }\n",
       "\n",
       "    .dataframe tbody tr th {\n",
       "        vertical-align: top;\n",
       "    }\n",
       "\n",
       "    .dataframe thead th {\n",
       "        text-align: right;\n",
       "    }\n",
       "</style>\n",
       "<table border=\"1\" class=\"dataframe\">\n",
       "  <thead>\n",
       "    <tr style=\"text-align: right;\">\n",
       "      <th></th>\n",
       "      <th>category_list</th>\n",
       "      <th>Automotive &amp; Sports</th>\n",
       "      <th>Blanks</th>\n",
       "      <th>Cleantech / Semiconductors</th>\n",
       "      <th>Entertainment</th>\n",
       "      <th>Health</th>\n",
       "      <th>Manufacturing</th>\n",
       "      <th>News, Search and Messaging</th>\n",
       "      <th>Others</th>\n",
       "      <th>Social, Finance, Analytics, Advertising</th>\n",
       "    </tr>\n",
       "  </thead>\n",
       "  <tbody>\n",
       "    <tr>\n",
       "      <th>0</th>\n",
       "      <td>NaN</td>\n",
       "      <td>0</td>\n",
       "      <td>1</td>\n",
       "      <td>0</td>\n",
       "      <td>0</td>\n",
       "      <td>0</td>\n",
       "      <td>0</td>\n",
       "      <td>0</td>\n",
       "      <td>0</td>\n",
       "      <td>0</td>\n",
       "    </tr>\n",
       "    <tr>\n",
       "      <th>1</th>\n",
       "      <td>3D</td>\n",
       "      <td>0</td>\n",
       "      <td>0</td>\n",
       "      <td>0</td>\n",
       "      <td>0</td>\n",
       "      <td>0</td>\n",
       "      <td>1</td>\n",
       "      <td>0</td>\n",
       "      <td>0</td>\n",
       "      <td>0</td>\n",
       "    </tr>\n",
       "    <tr>\n",
       "      <th>2</th>\n",
       "      <td>3D Printing</td>\n",
       "      <td>0</td>\n",
       "      <td>0</td>\n",
       "      <td>0</td>\n",
       "      <td>0</td>\n",
       "      <td>0</td>\n",
       "      <td>1</td>\n",
       "      <td>0</td>\n",
       "      <td>0</td>\n",
       "      <td>0</td>\n",
       "    </tr>\n",
       "    <tr>\n",
       "      <th>3</th>\n",
       "      <td>3D Technology</td>\n",
       "      <td>0</td>\n",
       "      <td>0</td>\n",
       "      <td>0</td>\n",
       "      <td>0</td>\n",
       "      <td>0</td>\n",
       "      <td>1</td>\n",
       "      <td>0</td>\n",
       "      <td>0</td>\n",
       "      <td>0</td>\n",
       "    </tr>\n",
       "    <tr>\n",
       "      <th>4</th>\n",
       "      <td>Accounting</td>\n",
       "      <td>0</td>\n",
       "      <td>0</td>\n",
       "      <td>0</td>\n",
       "      <td>0</td>\n",
       "      <td>0</td>\n",
       "      <td>0</td>\n",
       "      <td>0</td>\n",
       "      <td>0</td>\n",
       "      <td>1</td>\n",
       "    </tr>\n",
       "  </tbody>\n",
       "</table>\n",
       "</div>"
      ],
      "text/plain": [
       "   category_list  Automotive & Sports  Blanks  Cleantech / Semiconductors  \\\n",
       "0            NaN                    0       1                           0   \n",
       "1             3D                    0       0                           0   \n",
       "2    3D Printing                    0       0                           0   \n",
       "3  3D Technology                    0       0                           0   \n",
       "4     Accounting                    0       0                           0   \n",
       "\n",
       "   Entertainment  Health  Manufacturing  News, Search and Messaging  Others  \\\n",
       "0              0       0              0                           0       0   \n",
       "1              0       0              1                           0       0   \n",
       "2              0       0              1                           0       0   \n",
       "3              0       0              1                           0       0   \n",
       "4              0       0              0                           0       0   \n",
       "\n",
       "   Social, Finance, Analytics, Advertising  \n",
       "0                                        0  \n",
       "1                                        0  \n",
       "2                                        0  \n",
       "3                                        0  \n",
       "4                                        1  "
      ]
     },
     "execution_count": 23,
     "metadata": {},
     "output_type": "execute_result"
    }
   ],
   "source": [
    "# Reading mapping.csv \n",
    "mapping = pd.read_csv(\"mapping.csv\")\n",
    "mapping.head()"
   ]
  },
  {
   "cell_type": "code",
   "execution_count": 24,
   "metadata": {},
   "outputs": [],
   "source": [
    "# Removing row with NAN i.e first one\n",
    "\n",
    "mapping = mapping[~pd.isnull(mapping['category_list'])]"
   ]
  },
  {
   "cell_type": "code",
   "execution_count": 25,
   "metadata": {},
   "outputs": [],
   "source": [
    "# Reshaping the mapping data\n",
    "\n",
    "reshaped_mapping = pd.melt(mapping, id_vars=[\"category_list\"],var_name=\"main_sector\", value_name=\"present\")"
   ]
  },
  {
   "cell_type": "code",
   "execution_count": 26,
   "metadata": {},
   "outputs": [],
   "source": [
    "# Removing rows values with 0 in presnet column\n",
    "\n",
    "mapping_data = reshaped_mapping[reshaped_mapping.present == 1]"
   ]
  },
  {
   "cell_type": "code",
   "execution_count": 27,
   "metadata": {},
   "outputs": [
    {
     "data": {
      "text/html": [
       "<div>\n",
       "<style scoped>\n",
       "    .dataframe tbody tr th:only-of-type {\n",
       "        vertical-align: middle;\n",
       "    }\n",
       "\n",
       "    .dataframe tbody tr th {\n",
       "        vertical-align: top;\n",
       "    }\n",
       "\n",
       "    .dataframe thead th {\n",
       "        text-align: right;\n",
       "    }\n",
       "</style>\n",
       "<table border=\"1\" class=\"dataframe\">\n",
       "  <thead>\n",
       "    <tr style=\"text-align: right;\">\n",
       "      <th></th>\n",
       "      <th>category_list</th>\n",
       "      <th>main_sector</th>\n",
       "      <th>present</th>\n",
       "    </tr>\n",
       "  </thead>\n",
       "  <tbody>\n",
       "    <tr>\n",
       "      <th>7</th>\n",
       "      <td>Adventure Travel</td>\n",
       "      <td>Automotive &amp; Sports</td>\n",
       "      <td>1</td>\n",
       "    </tr>\n",
       "    <tr>\n",
       "      <th>13</th>\n",
       "      <td>Aerospace</td>\n",
       "      <td>Automotive &amp; Sports</td>\n",
       "      <td>1</td>\n",
       "    </tr>\n",
       "    <tr>\n",
       "      <th>44</th>\n",
       "      <td>Auto</td>\n",
       "      <td>Automotive &amp; Sports</td>\n",
       "      <td>1</td>\n",
       "    </tr>\n",
       "    <tr>\n",
       "      <th>45</th>\n",
       "      <td>Automated Kiosk</td>\n",
       "      <td>Automotive &amp; Sports</td>\n",
       "      <td>1</td>\n",
       "    </tr>\n",
       "    <tr>\n",
       "      <th>46</th>\n",
       "      <td>Automotive</td>\n",
       "      <td>Automotive &amp; Sports</td>\n",
       "      <td>1</td>\n",
       "    </tr>\n",
       "  </tbody>\n",
       "</table>\n",
       "</div>"
      ],
      "text/plain": [
       "       category_list          main_sector  present\n",
       "7   Adventure Travel  Automotive & Sports        1\n",
       "13         Aerospace  Automotive & Sports        1\n",
       "44              Auto  Automotive & Sports        1\n",
       "45   Automated Kiosk  Automotive & Sports        1\n",
       "46        Automotive  Automotive & Sports        1"
      ]
     },
     "execution_count": 27,
     "metadata": {},
     "output_type": "execute_result"
    }
   ],
   "source": [
    "# Correcting the data as some name in catgeory contains 0 in place of na as Fi0nce it should be Finance\n",
    "\n",
    "mapping_data['category_list'] = mapping_data['category_list'].str.replace('0','na')\n",
    "mapping_data.head()"
   ]
  },
  {
   "cell_type": "code",
   "execution_count": 28,
   "metadata": {},
   "outputs": [],
   "source": [
    "# Dropping column present we don't need it now\n",
    "\n",
    "mapping_data = mapping_data.drop('present', axis=1)"
   ]
  },
  {
   "cell_type": "code",
   "execution_count": 29,
   "metadata": {},
   "outputs": [
    {
     "data": {
      "text/html": [
       "<div>\n",
       "<style scoped>\n",
       "    .dataframe tbody tr th:only-of-type {\n",
       "        vertical-align: middle;\n",
       "    }\n",
       "\n",
       "    .dataframe tbody tr th {\n",
       "        vertical-align: top;\n",
       "    }\n",
       "\n",
       "    .dataframe thead th {\n",
       "        text-align: right;\n",
       "    }\n",
       "</style>\n",
       "<table border=\"1\" class=\"dataframe\">\n",
       "  <thead>\n",
       "    <tr style=\"text-align: right;\">\n",
       "      <th></th>\n",
       "      <th>primary_sector</th>\n",
       "      <th>main_sector</th>\n",
       "    </tr>\n",
       "  </thead>\n",
       "  <tbody>\n",
       "    <tr>\n",
       "      <th>7</th>\n",
       "      <td>Adventure Travel</td>\n",
       "      <td>Automotive &amp; Sports</td>\n",
       "    </tr>\n",
       "    <tr>\n",
       "      <th>13</th>\n",
       "      <td>Aerospace</td>\n",
       "      <td>Automotive &amp; Sports</td>\n",
       "    </tr>\n",
       "    <tr>\n",
       "      <th>44</th>\n",
       "      <td>Auto</td>\n",
       "      <td>Automotive &amp; Sports</td>\n",
       "    </tr>\n",
       "    <tr>\n",
       "      <th>45</th>\n",
       "      <td>Automated Kiosk</td>\n",
       "      <td>Automotive &amp; Sports</td>\n",
       "    </tr>\n",
       "    <tr>\n",
       "      <th>46</th>\n",
       "      <td>Automotive</td>\n",
       "      <td>Automotive &amp; Sports</td>\n",
       "    </tr>\n",
       "  </tbody>\n",
       "</table>\n",
       "</div>"
      ],
      "text/plain": [
       "      primary_sector          main_sector\n",
       "7   Adventure Travel  Automotive & Sports\n",
       "13         Aerospace  Automotive & Sports\n",
       "44              Auto  Automotive & Sports\n",
       "45   Automated Kiosk  Automotive & Sports\n",
       "46        Automotive  Automotive & Sports"
      ]
     },
     "execution_count": 29,
     "metadata": {},
     "output_type": "execute_result"
    }
   ],
   "source": [
    "# Renaming column category_list to primary_sector\n",
    "\n",
    "mapping_data.rename(columns={'category_list': 'primary_sector'}, inplace=True)\n",
    "mapping_data.head()"
   ]
  },
  {
   "cell_type": "code",
   "execution_count": 30,
   "metadata": {},
   "outputs": [
    {
     "data": {
      "text/html": [
       "<div>\n",
       "<style scoped>\n",
       "    .dataframe tbody tr th:only-of-type {\n",
       "        vertical-align: middle;\n",
       "    }\n",
       "\n",
       "    .dataframe tbody tr th {\n",
       "        vertical-align: top;\n",
       "    }\n",
       "\n",
       "    .dataframe thead th {\n",
       "        text-align: right;\n",
       "    }\n",
       "</style>\n",
       "<table border=\"1\" class=\"dataframe\">\n",
       "  <thead>\n",
       "    <tr style=\"text-align: right;\">\n",
       "      <th></th>\n",
       "      <th>permalink</th>\n",
       "      <th>funding_round_type</th>\n",
       "      <th>raised_amount_usd</th>\n",
       "      <th>category_list</th>\n",
       "      <th>country_code</th>\n",
       "      <th>city</th>\n",
       "      <th>primary_sector</th>\n",
       "    </tr>\n",
       "  </thead>\n",
       "  <tbody>\n",
       "    <tr>\n",
       "      <th>0</th>\n",
       "      <td>/organization/-fame</td>\n",
       "      <td>venture</td>\n",
       "      <td>10000000.0</td>\n",
       "      <td>Media</td>\n",
       "      <td>IND</td>\n",
       "      <td>Mumbai</td>\n",
       "      <td>Media</td>\n",
       "    </tr>\n",
       "    <tr>\n",
       "      <th>2</th>\n",
       "      <td>/organization/-qounter</td>\n",
       "      <td>seed</td>\n",
       "      <td>700000.0</td>\n",
       "      <td>Application Platforms|Real Time|Social Network...</td>\n",
       "      <td>USA</td>\n",
       "      <td>Delaware City</td>\n",
       "      <td>Application Platforms</td>\n",
       "    </tr>\n",
       "    <tr>\n",
       "      <th>3</th>\n",
       "      <td>/organization/-the-one-of-them-inc-</td>\n",
       "      <td>venture</td>\n",
       "      <td>3406878.0</td>\n",
       "      <td>Apps|Games|Mobile</td>\n",
       "      <td>NaN</td>\n",
       "      <td>NaN</td>\n",
       "      <td>Apps</td>\n",
       "    </tr>\n",
       "    <tr>\n",
       "      <th>4</th>\n",
       "      <td>/organization/0-6-com</td>\n",
       "      <td>venture</td>\n",
       "      <td>2000000.0</td>\n",
       "      <td>Curated Web</td>\n",
       "      <td>CHN</td>\n",
       "      <td>Beijing</td>\n",
       "      <td>Curated Web</td>\n",
       "    </tr>\n",
       "    <tr>\n",
       "      <th>6</th>\n",
       "      <td>/organization/01games-technology</td>\n",
       "      <td>undisclosed</td>\n",
       "      <td>41250.0</td>\n",
       "      <td>Games</td>\n",
       "      <td>HKG</td>\n",
       "      <td>Hong Kong</td>\n",
       "      <td>Games</td>\n",
       "    </tr>\n",
       "  </tbody>\n",
       "</table>\n",
       "</div>"
      ],
      "text/plain": [
       "                             permalink funding_round_type  raised_amount_usd  \\\n",
       "0                  /organization/-fame            venture         10000000.0   \n",
       "2               /organization/-qounter               seed           700000.0   \n",
       "3  /organization/-the-one-of-them-inc-            venture          3406878.0   \n",
       "4                /organization/0-6-com            venture          2000000.0   \n",
       "6     /organization/01games-technology        undisclosed            41250.0   \n",
       "\n",
       "                                       category_list country_code  \\\n",
       "0                                              Media          IND   \n",
       "2  Application Platforms|Real Time|Social Network...          USA   \n",
       "3                                  Apps|Games|Mobile          NaN   \n",
       "4                                        Curated Web          CHN   \n",
       "6                                              Games          HKG   \n",
       "\n",
       "            city         primary_sector  \n",
       "0         Mumbai                  Media  \n",
       "2  Delaware City  Application Platforms  \n",
       "3            NaN                   Apps  \n",
       "4        Beijing            Curated Web  \n",
       "6      Hong Kong                  Games  "
      ]
     },
     "execution_count": 30,
     "metadata": {},
     "output_type": "execute_result"
    }
   ],
   "source": [
    "# Adding new column named primary_sector in master_frame by taking first value in category_list column\n",
    "\n",
    "master_frame['primary_sector'] = master_frame['category_list'].str.split('|').str[0]\n",
    "master_frame.head()"
   ]
  },
  {
   "cell_type": "code",
   "execution_count": 31,
   "metadata": {},
   "outputs": [
    {
     "data": {
      "text/html": [
       "<div>\n",
       "<style scoped>\n",
       "    .dataframe tbody tr th:only-of-type {\n",
       "        vertical-align: middle;\n",
       "    }\n",
       "\n",
       "    .dataframe tbody tr th {\n",
       "        vertical-align: top;\n",
       "    }\n",
       "\n",
       "    .dataframe thead th {\n",
       "        text-align: right;\n",
       "    }\n",
       "</style>\n",
       "<table border=\"1\" class=\"dataframe\">\n",
       "  <thead>\n",
       "    <tr style=\"text-align: right;\">\n",
       "      <th></th>\n",
       "      <th>permalink</th>\n",
       "      <th>funding_round_type</th>\n",
       "      <th>raised_amount_usd</th>\n",
       "      <th>category_list</th>\n",
       "      <th>country_code</th>\n",
       "      <th>city</th>\n",
       "      <th>primary_sector</th>\n",
       "      <th>main_sector</th>\n",
       "    </tr>\n",
       "  </thead>\n",
       "  <tbody>\n",
       "    <tr>\n",
       "      <th>0</th>\n",
       "      <td>/organization/-fame</td>\n",
       "      <td>venture</td>\n",
       "      <td>10000000.0</td>\n",
       "      <td>Media</td>\n",
       "      <td>IND</td>\n",
       "      <td>Mumbai</td>\n",
       "      <td>Media</td>\n",
       "      <td>Entertainment</td>\n",
       "    </tr>\n",
       "    <tr>\n",
       "      <th>1</th>\n",
       "      <td>/organization/90min</td>\n",
       "      <td>venture</td>\n",
       "      <td>15000000.0</td>\n",
       "      <td>Media|News|Publishing|Soccer|Sports</td>\n",
       "      <td>GBR</td>\n",
       "      <td>London</td>\n",
       "      <td>Media</td>\n",
       "      <td>Entertainment</td>\n",
       "    </tr>\n",
       "    <tr>\n",
       "      <th>2</th>\n",
       "      <td>/organization/90min</td>\n",
       "      <td>venture</td>\n",
       "      <td>5800000.0</td>\n",
       "      <td>Media|News|Publishing|Soccer|Sports</td>\n",
       "      <td>GBR</td>\n",
       "      <td>London</td>\n",
       "      <td>Media</td>\n",
       "      <td>Entertainment</td>\n",
       "    </tr>\n",
       "    <tr>\n",
       "      <th>3</th>\n",
       "      <td>/organization/90min</td>\n",
       "      <td>venture</td>\n",
       "      <td>18000000.0</td>\n",
       "      <td>Media|News|Publishing|Soccer|Sports</td>\n",
       "      <td>GBR</td>\n",
       "      <td>London</td>\n",
       "      <td>Media</td>\n",
       "      <td>Entertainment</td>\n",
       "    </tr>\n",
       "    <tr>\n",
       "      <th>4</th>\n",
       "      <td>/organization/a-dance-for-me</td>\n",
       "      <td>equity_crowdfunding</td>\n",
       "      <td>1090000.0</td>\n",
       "      <td>Media|News|Photo Sharing|Video</td>\n",
       "      <td>USA</td>\n",
       "      <td>Missoula</td>\n",
       "      <td>Media</td>\n",
       "      <td>Entertainment</td>\n",
       "    </tr>\n",
       "  </tbody>\n",
       "</table>\n",
       "</div>"
      ],
      "text/plain": [
       "                      permalink   funding_round_type  raised_amount_usd  \\\n",
       "0           /organization/-fame              venture         10000000.0   \n",
       "1           /organization/90min              venture         15000000.0   \n",
       "2           /organization/90min              venture          5800000.0   \n",
       "3           /organization/90min              venture         18000000.0   \n",
       "4  /organization/a-dance-for-me  equity_crowdfunding          1090000.0   \n",
       "\n",
       "                         category_list country_code      city primary_sector  \\\n",
       "0                                Media          IND    Mumbai          Media   \n",
       "1  Media|News|Publishing|Soccer|Sports          GBR    London          Media   \n",
       "2  Media|News|Publishing|Soccer|Sports          GBR    London          Media   \n",
       "3  Media|News|Publishing|Soccer|Sports          GBR    London          Media   \n",
       "4       Media|News|Photo Sharing|Video          USA  Missoula          Media   \n",
       "\n",
       "     main_sector  \n",
       "0  Entertainment  \n",
       "1  Entertainment  \n",
       "2  Entertainment  \n",
       "3  Entertainment  \n",
       "4  Entertainment  "
      ]
     },
     "execution_count": 31,
     "metadata": {},
     "output_type": "execute_result"
    }
   ],
   "source": [
    "# Merging master_frame and mapping_data\n",
    "\n",
    "merged_frame = pd.merge(master_frame, mapping_data, how='inner', on='primary_sector')\n",
    "merged_frame.head()"
   ]
  },
  {
   "cell_type": "markdown",
   "metadata": {},
   "source": [
    "## Checkpoint 5: Sector Analysis 2"
   ]
  },
  {
   "cell_type": "markdown",
   "metadata": {},
   "source": [
    "### Creating new dataframes D1, D2 and D3 for each of the three countries \n",
    "### containing the observations of funding type venture falling within the 5-15 million USD range"
   ]
  },
  {
   "cell_type": "code",
   "execution_count": 32,
   "metadata": {},
   "outputs": [],
   "source": [
    "D1 = merged_frame.loc[(merged_frame.funding_round_type == 'venture') & (merged_frame.country_code == 'USA') \n",
    "                          & (merged_frame.raised_amount_usd >= 5000000) & (merged_frame.raised_amount_usd <= 15000000),:]\n",
    "D2 = merged_frame.loc[(merged_frame.funding_round_type == 'venture') & (merged_frame.country_code == 'GBR') \n",
    "                          & (merged_frame.raised_amount_usd >= 5000000) & (merged_frame.raised_amount_usd <= 15000000),:]\n",
    "D3 = merged_frame.loc[(merged_frame.funding_round_type == 'venture') & (merged_frame.country_code == 'IND') \n",
    "                          & (merged_frame.raised_amount_usd >= 5000000) & (merged_frame.raised_amount_usd <= 15000000),:]"
   ]
  },
  {
   "cell_type": "code",
   "execution_count": 33,
   "metadata": {},
   "outputs": [
    {
     "data": {
      "text/html": [
       "<div>\n",
       "<style scoped>\n",
       "    .dataframe tbody tr th:only-of-type {\n",
       "        vertical-align: middle;\n",
       "    }\n",
       "\n",
       "    .dataframe tbody tr th {\n",
       "        vertical-align: top;\n",
       "    }\n",
       "\n",
       "    .dataframe thead th {\n",
       "        text-align: right;\n",
       "    }\n",
       "</style>\n",
       "<table border=\"1\" class=\"dataframe\">\n",
       "  <thead>\n",
       "    <tr style=\"text-align: right;\">\n",
       "      <th></th>\n",
       "      <th>permalink</th>\n",
       "      <th>funding_round_type</th>\n",
       "      <th>raised_amount_usd</th>\n",
       "      <th>category_list</th>\n",
       "      <th>country_code</th>\n",
       "      <th>city</th>\n",
       "      <th>primary_sector</th>\n",
       "      <th>main_sector</th>\n",
       "      <th>number_of_inv</th>\n",
       "      <th>amnt_invested</th>\n",
       "    </tr>\n",
       "  </thead>\n",
       "  <tbody>\n",
       "    <tr>\n",
       "      <th>93563</th>\n",
       "      <td>/organization/user-interface</td>\n",
       "      <td>venture</td>\n",
       "      <td>8250000.0</td>\n",
       "      <td>User Interface</td>\n",
       "      <td>USA</td>\n",
       "      <td>California City</td>\n",
       "      <td>User Interface</td>\n",
       "      <td>Others</td>\n",
       "      <td>2950</td>\n",
       "      <td>2.632101e+10</td>\n",
       "    </tr>\n",
       "    <tr>\n",
       "      <th>41728</th>\n",
       "      <td>/organization/m3-technology-group</td>\n",
       "      <td>venture</td>\n",
       "      <td>6500000.0</td>\n",
       "      <td>Enterprise Software</td>\n",
       "      <td>USA</td>\n",
       "      <td>Charlotte</td>\n",
       "      <td>Enterprise Software</td>\n",
       "      <td>Others</td>\n",
       "      <td>2950</td>\n",
       "      <td>2.632101e+10</td>\n",
       "    </tr>\n",
       "    <tr>\n",
       "      <th>41712</th>\n",
       "      <td>/organization/logrhythm</td>\n",
       "      <td>venture</td>\n",
       "      <td>10000000.0</td>\n",
       "      <td>Enterprise Software</td>\n",
       "      <td>USA</td>\n",
       "      <td>Boulder</td>\n",
       "      <td>Enterprise Software</td>\n",
       "      <td>Others</td>\n",
       "      <td>2950</td>\n",
       "      <td>2.632101e+10</td>\n",
       "    </tr>\n",
       "    <tr>\n",
       "      <th>41709</th>\n",
       "      <td>/organization/loggly</td>\n",
       "      <td>venture</td>\n",
       "      <td>15000000.0</td>\n",
       "      <td>Enterprise Software</td>\n",
       "      <td>USA</td>\n",
       "      <td>San Francisco</td>\n",
       "      <td>Enterprise Software</td>\n",
       "      <td>Others</td>\n",
       "      <td>2950</td>\n",
       "      <td>2.632101e+10</td>\n",
       "    </tr>\n",
       "    <tr>\n",
       "      <th>41708</th>\n",
       "      <td>/organization/loggly</td>\n",
       "      <td>venture</td>\n",
       "      <td>9900000.0</td>\n",
       "      <td>Enterprise Software</td>\n",
       "      <td>USA</td>\n",
       "      <td>San Francisco</td>\n",
       "      <td>Enterprise Software</td>\n",
       "      <td>Others</td>\n",
       "      <td>2950</td>\n",
       "      <td>2.632101e+10</td>\n",
       "    </tr>\n",
       "  </tbody>\n",
       "</table>\n",
       "</div>"
      ],
      "text/plain": [
       "                               permalink funding_round_type  \\\n",
       "93563       /organization/user-interface            venture   \n",
       "41728  /organization/m3-technology-group            venture   \n",
       "41712            /organization/logrhythm            venture   \n",
       "41709               /organization/loggly            venture   \n",
       "41708               /organization/loggly            venture   \n",
       "\n",
       "       raised_amount_usd        category_list country_code             city  \\\n",
       "93563          8250000.0       User Interface          USA  California City   \n",
       "41728          6500000.0  Enterprise Software          USA        Charlotte   \n",
       "41712         10000000.0  Enterprise Software          USA          Boulder   \n",
       "41709         15000000.0  Enterprise Software          USA    San Francisco   \n",
       "41708          9900000.0  Enterprise Software          USA    San Francisco   \n",
       "\n",
       "            primary_sector main_sector  number_of_inv  amnt_invested  \n",
       "93563       User Interface      Others           2950   2.632101e+10  \n",
       "41728  Enterprise Software      Others           2950   2.632101e+10  \n",
       "41712  Enterprise Software      Others           2950   2.632101e+10  \n",
       "41709  Enterprise Software      Others           2950   2.632101e+10  \n",
       "41708  Enterprise Software      Others           2950   2.632101e+10  "
      ]
     },
     "execution_count": 33,
     "metadata": {},
     "output_type": "execute_result"
    }
   ],
   "source": [
    "# Adding number_of_inv and amnt_invested columns to D1 containing count of investments and total amount invested in each sector\n",
    "\n",
    "D1['number_of_inv'] = D1.groupby('main_sector')['main_sector'].transform('count')\n",
    "D1['amnt_invested'] = D1.raised_amount_usd.groupby(D1.main_sector).transform('sum')\n",
    "D1.sort_values(['number_of_inv'],ascending = False, inplace= True)\n",
    "D1.head()"
   ]
  },
  {
   "cell_type": "code",
   "execution_count": 34,
   "metadata": {},
   "outputs": [
    {
     "data": {
      "text/html": [
       "<div>\n",
       "<style scoped>\n",
       "    .dataframe tbody tr th:only-of-type {\n",
       "        vertical-align: middle;\n",
       "    }\n",
       "\n",
       "    .dataframe tbody tr th {\n",
       "        vertical-align: top;\n",
       "    }\n",
       "\n",
       "    .dataframe thead th {\n",
       "        text-align: right;\n",
       "    }\n",
       "</style>\n",
       "<table border=\"1\" class=\"dataframe\">\n",
       "  <thead>\n",
       "    <tr style=\"text-align: right;\">\n",
       "      <th></th>\n",
       "      <th>permalink</th>\n",
       "      <th>funding_round_type</th>\n",
       "      <th>raised_amount_usd</th>\n",
       "      <th>category_list</th>\n",
       "      <th>country_code</th>\n",
       "      <th>city</th>\n",
       "      <th>primary_sector</th>\n",
       "      <th>main_sector</th>\n",
       "      <th>number_of_inv</th>\n",
       "      <th>amnt_invested</th>\n",
       "    </tr>\n",
       "  </thead>\n",
       "  <tbody>\n",
       "    <tr>\n",
       "      <th>25040</th>\n",
       "      <td>/organization/myoptique-group</td>\n",
       "      <td>venture</td>\n",
       "      <td>14656237.0</td>\n",
       "      <td>E-Commerce</td>\n",
       "      <td>GBR</td>\n",
       "      <td>London</td>\n",
       "      <td>E-Commerce</td>\n",
       "      <td>Others</td>\n",
       "      <td>147</td>\n",
       "      <td>1.283624e+09</td>\n",
       "    </tr>\n",
       "    <tr>\n",
       "      <th>39215</th>\n",
       "      <td>/organization/site-intelligence</td>\n",
       "      <td>venture</td>\n",
       "      <td>7000000.0</td>\n",
       "      <td>Software</td>\n",
       "      <td>GBR</td>\n",
       "      <td>Oxton</td>\n",
       "      <td>Software</td>\n",
       "      <td>Others</td>\n",
       "      <td>147</td>\n",
       "      <td>1.283624e+09</td>\n",
       "    </tr>\n",
       "    <tr>\n",
       "      <th>66415</th>\n",
       "      <td>/organization/native-networks</td>\n",
       "      <td>venture</td>\n",
       "      <td>11500000.0</td>\n",
       "      <td>Networking</td>\n",
       "      <td>GBR</td>\n",
       "      <td>Coventry</td>\n",
       "      <td>Networking</td>\n",
       "      <td>Others</td>\n",
       "      <td>147</td>\n",
       "      <td>1.283624e+09</td>\n",
       "    </tr>\n",
       "    <tr>\n",
       "      <th>38868</th>\n",
       "      <td>/organization/rootstock-software</td>\n",
       "      <td>venture</td>\n",
       "      <td>5750000.0</td>\n",
       "      <td>Software</td>\n",
       "      <td>GBR</td>\n",
       "      <td>Milton Keynes</td>\n",
       "      <td>Software</td>\n",
       "      <td>Others</td>\n",
       "      <td>147</td>\n",
       "      <td>1.283624e+09</td>\n",
       "    </tr>\n",
       "    <tr>\n",
       "      <th>38809</th>\n",
       "      <td>/organization/rhetorical-systems</td>\n",
       "      <td>venture</td>\n",
       "      <td>6282049.0</td>\n",
       "      <td>Software</td>\n",
       "      <td>GBR</td>\n",
       "      <td>Edinburgh</td>\n",
       "      <td>Software</td>\n",
       "      <td>Others</td>\n",
       "      <td>147</td>\n",
       "      <td>1.283624e+09</td>\n",
       "    </tr>\n",
       "  </tbody>\n",
       "</table>\n",
       "</div>"
      ],
      "text/plain": [
       "                              permalink funding_round_type  raised_amount_usd  \\\n",
       "25040     /organization/myoptique-group            venture         14656237.0   \n",
       "39215   /organization/site-intelligence            venture          7000000.0   \n",
       "66415     /organization/native-networks            venture         11500000.0   \n",
       "38868  /organization/rootstock-software            venture          5750000.0   \n",
       "38809  /organization/rhetorical-systems            venture          6282049.0   \n",
       "\n",
       "      category_list country_code           city primary_sector main_sector  \\\n",
       "25040    E-Commerce          GBR         London     E-Commerce      Others   \n",
       "39215      Software          GBR          Oxton       Software      Others   \n",
       "66415    Networking          GBR       Coventry     Networking      Others   \n",
       "38868      Software          GBR  Milton Keynes       Software      Others   \n",
       "38809      Software          GBR      Edinburgh       Software      Others   \n",
       "\n",
       "       number_of_inv  amnt_invested  \n",
       "25040            147   1.283624e+09  \n",
       "39215            147   1.283624e+09  \n",
       "66415            147   1.283624e+09  \n",
       "38868            147   1.283624e+09  \n",
       "38809            147   1.283624e+09  "
      ]
     },
     "execution_count": 34,
     "metadata": {},
     "output_type": "execute_result"
    }
   ],
   "source": [
    "# Adding number_of_inv and amnt_invested columns to D2 containing count of investments and total amount invested in each sector\n",
    "\n",
    "D2['number_of_inv'] = D2.groupby('main_sector')['main_sector'].transform('count')\n",
    "D2['amnt_invested'] = D2.raised_amount_usd.groupby(D2.main_sector).transform('sum')\n",
    "D2.sort_values(['number_of_inv'],ascending = False, inplace= True)\n",
    "D2.head()"
   ]
  },
  {
   "cell_type": "code",
   "execution_count": 35,
   "metadata": {},
   "outputs": [
    {
     "data": {
      "text/html": [
       "<div>\n",
       "<style scoped>\n",
       "    .dataframe tbody tr th:only-of-type {\n",
       "        vertical-align: middle;\n",
       "    }\n",
       "\n",
       "    .dataframe tbody tr th {\n",
       "        vertical-align: top;\n",
       "    }\n",
       "\n",
       "    .dataframe thead th {\n",
       "        text-align: right;\n",
       "    }\n",
       "</style>\n",
       "<table border=\"1\" class=\"dataframe\">\n",
       "  <thead>\n",
       "    <tr style=\"text-align: right;\">\n",
       "      <th></th>\n",
       "      <th>permalink</th>\n",
       "      <th>funding_round_type</th>\n",
       "      <th>raised_amount_usd</th>\n",
       "      <th>category_list</th>\n",
       "      <th>country_code</th>\n",
       "      <th>city</th>\n",
       "      <th>primary_sector</th>\n",
       "      <th>main_sector</th>\n",
       "      <th>number_of_inv</th>\n",
       "      <th>amnt_invested</th>\n",
       "    </tr>\n",
       "  </thead>\n",
       "  <tbody>\n",
       "    <tr>\n",
       "      <th>81253</th>\n",
       "      <td>/organization/trucksfirst</td>\n",
       "      <td>venture</td>\n",
       "      <td>10000000.0</td>\n",
       "      <td>Logistics|Logistics Company|Services</td>\n",
       "      <td>IND</td>\n",
       "      <td>Gurgaon</td>\n",
       "      <td>Logistics</td>\n",
       "      <td>Others</td>\n",
       "      <td>110</td>\n",
       "      <td>1.013410e+09</td>\n",
       "    </tr>\n",
       "    <tr>\n",
       "      <th>29599</th>\n",
       "      <td>/organization/hippocampus-learning-centres</td>\n",
       "      <td>venture</td>\n",
       "      <td>13000000.0</td>\n",
       "      <td>Education</td>\n",
       "      <td>IND</td>\n",
       "      <td>Bangalore</td>\n",
       "      <td>Education</td>\n",
       "      <td>Others</td>\n",
       "      <td>110</td>\n",
       "      <td>1.013410e+09</td>\n",
       "    </tr>\n",
       "    <tr>\n",
       "      <th>26080</th>\n",
       "      <td>/organization/tastykhana</td>\n",
       "      <td>venture</td>\n",
       "      <td>5000000.0</td>\n",
       "      <td>E-Commerce|Internet</td>\n",
       "      <td>IND</td>\n",
       "      <td>Pune</td>\n",
       "      <td>E-Commerce</td>\n",
       "      <td>Others</td>\n",
       "      <td>110</td>\n",
       "      <td>1.013410e+09</td>\n",
       "    </tr>\n",
       "    <tr>\n",
       "      <th>26085</th>\n",
       "      <td>/organization/teabox</td>\n",
       "      <td>venture</td>\n",
       "      <td>6000000.0</td>\n",
       "      <td>E-Commerce|Specialty Foods</td>\n",
       "      <td>IND</td>\n",
       "      <td>Darjeeling</td>\n",
       "      <td>E-Commerce</td>\n",
       "      <td>Others</td>\n",
       "      <td>110</td>\n",
       "      <td>1.013410e+09</td>\n",
       "    </tr>\n",
       "    <tr>\n",
       "      <th>26346</th>\n",
       "      <td>/organization/urban-ladder</td>\n",
       "      <td>venture</td>\n",
       "      <td>5000000.0</td>\n",
       "      <td>E-Commerce|Furniture|Home Decor|Home &amp; Garden|...</td>\n",
       "      <td>IND</td>\n",
       "      <td>Bangalore</td>\n",
       "      <td>E-Commerce</td>\n",
       "      <td>Others</td>\n",
       "      <td>110</td>\n",
       "      <td>1.013410e+09</td>\n",
       "    </tr>\n",
       "  </tbody>\n",
       "</table>\n",
       "</div>"
      ],
      "text/plain": [
       "                                        permalink funding_round_type  \\\n",
       "81253                   /organization/trucksfirst            venture   \n",
       "29599  /organization/hippocampus-learning-centres            venture   \n",
       "26080                    /organization/tastykhana            venture   \n",
       "26085                        /organization/teabox            venture   \n",
       "26346                  /organization/urban-ladder            venture   \n",
       "\n",
       "       raised_amount_usd                                      category_list  \\\n",
       "81253         10000000.0               Logistics|Logistics Company|Services   \n",
       "29599         13000000.0                                          Education   \n",
       "26080          5000000.0                                E-Commerce|Internet   \n",
       "26085          6000000.0                         E-Commerce|Specialty Foods   \n",
       "26346          5000000.0  E-Commerce|Furniture|Home Decor|Home & Garden|...   \n",
       "\n",
       "      country_code        city primary_sector main_sector  number_of_inv  \\\n",
       "81253          IND     Gurgaon      Logistics      Others            110   \n",
       "29599          IND   Bangalore      Education      Others            110   \n",
       "26080          IND        Pune     E-Commerce      Others            110   \n",
       "26085          IND  Darjeeling     E-Commerce      Others            110   \n",
       "26346          IND   Bangalore     E-Commerce      Others            110   \n",
       "\n",
       "       amnt_invested  \n",
       "81253   1.013410e+09  \n",
       "29599   1.013410e+09  \n",
       "26080   1.013410e+09  \n",
       "26085   1.013410e+09  \n",
       "26346   1.013410e+09  "
      ]
     },
     "execution_count": 35,
     "metadata": {},
     "output_type": "execute_result"
    }
   ],
   "source": [
    "# Adding number_of_inv and amnt_invested columns to D3 containing count of investments and total amount invested in each sector\n",
    "\n",
    "D3['number_of_inv'] = D3.groupby('main_sector')['main_sector'].transform('count')\n",
    "D3['amnt_invested'] = D3.raised_amount_usd.groupby(D3.main_sector).transform('sum')\n",
    "D3.sort_values(['number_of_inv'],ascending = False, inplace= True)\n",
    "D3.head()"
   ]
  },
  {
   "cell_type": "markdown",
   "metadata": {},
   "source": [
    "### Finding total number of investments"
   ]
  },
  {
   "cell_type": "code",
   "execution_count": 36,
   "metadata": {},
   "outputs": [
    {
     "data": {
      "text/plain": [
       "12012"
      ]
     },
     "execution_count": 36,
     "metadata": {},
     "output_type": "execute_result"
    }
   ],
   "source": [
    "# Total number of investments in D1\n",
    "\n",
    "D1.permalink.count()"
   ]
  },
  {
   "cell_type": "code",
   "execution_count": 37,
   "metadata": {},
   "outputs": [
    {
     "data": {
      "text/plain": [
       "619"
      ]
     },
     "execution_count": 37,
     "metadata": {},
     "output_type": "execute_result"
    }
   ],
   "source": [
    "# Total number of investments in D2\n",
    "\n",
    "D2.permalink.count()"
   ]
  },
  {
   "cell_type": "code",
   "execution_count": 38,
   "metadata": {},
   "outputs": [
    {
     "data": {
      "text/plain": [
       "328"
      ]
     },
     "execution_count": 38,
     "metadata": {},
     "output_type": "execute_result"
    }
   ],
   "source": [
    "# Total number of investments in D3\n",
    "\n",
    "D3.permalink.count()"
   ]
  },
  {
   "cell_type": "markdown",
   "metadata": {},
   "source": [
    "### Total amount of investments"
   ]
  },
  {
   "cell_type": "code",
   "execution_count": 39,
   "metadata": {},
   "outputs": [
    {
     "data": {
      "text/plain": [
       "107318294664.0"
      ]
     },
     "execution_count": 39,
     "metadata": {},
     "output_type": "execute_result"
    }
   ],
   "source": [
    "# Total amount of investments in D1\n",
    "\n",
    "D1.raised_amount_usd.sum()"
   ]
  },
  {
   "cell_type": "code",
   "execution_count": 40,
   "metadata": {},
   "outputs": [
    {
     "data": {
      "text/plain": [
       "5365228300.0"
      ]
     },
     "execution_count": 40,
     "metadata": {},
     "output_type": "execute_result"
    }
   ],
   "source": [
    "# Total amount of investments in D1\n",
    "\n",
    "D2.raised_amount_usd.sum()"
   ]
  },
  {
   "cell_type": "code",
   "execution_count": 41,
   "metadata": {},
   "outputs": [
    {
     "data": {
      "text/plain": [
       "2949543602.0"
      ]
     },
     "execution_count": 41,
     "metadata": {},
     "output_type": "execute_result"
    }
   ],
   "source": [
    "# Total amount of investments in D1\n",
    "\n",
    "D3.raised_amount_usd.sum()"
   ]
  },
  {
   "cell_type": "markdown",
   "metadata": {},
   "source": [
    "### Top sector based on count of investments"
   ]
  },
  {
   "cell_type": "code",
   "execution_count": 42,
   "metadata": {},
   "outputs": [
    {
     "data": {
      "text/html": [
       "<div>\n",
       "<style scoped>\n",
       "    .dataframe tbody tr th:only-of-type {\n",
       "        vertical-align: middle;\n",
       "    }\n",
       "\n",
       "    .dataframe tbody tr th {\n",
       "        vertical-align: top;\n",
       "    }\n",
       "\n",
       "    .dataframe thead th {\n",
       "        text-align: right;\n",
       "    }\n",
       "</style>\n",
       "<table border=\"1\" class=\"dataframe\">\n",
       "  <thead>\n",
       "    <tr style=\"text-align: right;\">\n",
       "      <th></th>\n",
       "      <th>main_sector</th>\n",
       "      <th>count</th>\n",
       "    </tr>\n",
       "  </thead>\n",
       "  <tbody>\n",
       "    <tr>\n",
       "      <th>6</th>\n",
       "      <td>Others</td>\n",
       "      <td>2950</td>\n",
       "    </tr>\n",
       "    <tr>\n",
       "      <th>7</th>\n",
       "      <td>Social, Finance, Analytics, Advertising</td>\n",
       "      <td>2714</td>\n",
       "    </tr>\n",
       "    <tr>\n",
       "      <th>1</th>\n",
       "      <td>Cleantech / Semiconductors</td>\n",
       "      <td>2300</td>\n",
       "    </tr>\n",
       "    <tr>\n",
       "      <th>5</th>\n",
       "      <td>News, Search and Messaging</td>\n",
       "      <td>1582</td>\n",
       "    </tr>\n",
       "    <tr>\n",
       "      <th>3</th>\n",
       "      <td>Health</td>\n",
       "      <td>909</td>\n",
       "    </tr>\n",
       "    <tr>\n",
       "      <th>4</th>\n",
       "      <td>Manufacturing</td>\n",
       "      <td>799</td>\n",
       "    </tr>\n",
       "    <tr>\n",
       "      <th>2</th>\n",
       "      <td>Entertainment</td>\n",
       "      <td>591</td>\n",
       "    </tr>\n",
       "    <tr>\n",
       "      <th>0</th>\n",
       "      <td>Automotive &amp; Sports</td>\n",
       "      <td>167</td>\n",
       "    </tr>\n",
       "  </tbody>\n",
       "</table>\n",
       "</div>"
      ],
      "text/plain": [
       "                               main_sector  count\n",
       "6                                   Others   2950\n",
       "7  Social, Finance, Analytics, Advertising   2714\n",
       "1               Cleantech / Semiconductors   2300\n",
       "5               News, Search and Messaging   1582\n",
       "3                                   Health    909\n",
       "4                            Manufacturing    799\n",
       "2                            Entertainment    591\n",
       "0                      Automotive & Sports    167"
      ]
     },
     "execution_count": 42,
     "metadata": {},
     "output_type": "execute_result"
    }
   ],
   "source": [
    "# Top sectors in D1\n",
    "\n",
    "D1.groupby('main_sector')['raised_amount_usd'].count().reset_index(name='count').sort_values(['count'], ascending=False)"
   ]
  },
  {
   "cell_type": "code",
   "execution_count": 43,
   "metadata": {},
   "outputs": [
    {
     "data": {
      "text/html": [
       "<div>\n",
       "<style scoped>\n",
       "    .dataframe tbody tr th:only-of-type {\n",
       "        vertical-align: middle;\n",
       "    }\n",
       "\n",
       "    .dataframe tbody tr th {\n",
       "        vertical-align: top;\n",
       "    }\n",
       "\n",
       "    .dataframe thead th {\n",
       "        text-align: right;\n",
       "    }\n",
       "</style>\n",
       "<table border=\"1\" class=\"dataframe\">\n",
       "  <thead>\n",
       "    <tr style=\"text-align: right;\">\n",
       "      <th></th>\n",
       "      <th>main_sector</th>\n",
       "      <th>count</th>\n",
       "    </tr>\n",
       "  </thead>\n",
       "  <tbody>\n",
       "    <tr>\n",
       "      <th>6</th>\n",
       "      <td>Others</td>\n",
       "      <td>147</td>\n",
       "    </tr>\n",
       "    <tr>\n",
       "      <th>7</th>\n",
       "      <td>Social, Finance, Analytics, Advertising</td>\n",
       "      <td>133</td>\n",
       "    </tr>\n",
       "    <tr>\n",
       "      <th>1</th>\n",
       "      <td>Cleantech / Semiconductors</td>\n",
       "      <td>128</td>\n",
       "    </tr>\n",
       "    <tr>\n",
       "      <th>5</th>\n",
       "      <td>News, Search and Messaging</td>\n",
       "      <td>73</td>\n",
       "    </tr>\n",
       "    <tr>\n",
       "      <th>2</th>\n",
       "      <td>Entertainment</td>\n",
       "      <td>56</td>\n",
       "    </tr>\n",
       "    <tr>\n",
       "      <th>4</th>\n",
       "      <td>Manufacturing</td>\n",
       "      <td>42</td>\n",
       "    </tr>\n",
       "    <tr>\n",
       "      <th>3</th>\n",
       "      <td>Health</td>\n",
       "      <td>24</td>\n",
       "    </tr>\n",
       "    <tr>\n",
       "      <th>0</th>\n",
       "      <td>Automotive &amp; Sports</td>\n",
       "      <td>16</td>\n",
       "    </tr>\n",
       "  </tbody>\n",
       "</table>\n",
       "</div>"
      ],
      "text/plain": [
       "                               main_sector  count\n",
       "6                                   Others    147\n",
       "7  Social, Finance, Analytics, Advertising    133\n",
       "1               Cleantech / Semiconductors    128\n",
       "5               News, Search and Messaging     73\n",
       "2                            Entertainment     56\n",
       "4                            Manufacturing     42\n",
       "3                                   Health     24\n",
       "0                      Automotive & Sports     16"
      ]
     },
     "execution_count": 43,
     "metadata": {},
     "output_type": "execute_result"
    }
   ],
   "source": [
    "# Top sectors in D2\n",
    "\n",
    "D2.groupby('main_sector')['raised_amount_usd'].count().reset_index(name='count').sort_values(['count'], ascending=False)"
   ]
  },
  {
   "cell_type": "code",
   "execution_count": 44,
   "metadata": {},
   "outputs": [
    {
     "data": {
      "text/html": [
       "<div>\n",
       "<style scoped>\n",
       "    .dataframe tbody tr th:only-of-type {\n",
       "        vertical-align: middle;\n",
       "    }\n",
       "\n",
       "    .dataframe tbody tr th {\n",
       "        vertical-align: top;\n",
       "    }\n",
       "\n",
       "    .dataframe thead th {\n",
       "        text-align: right;\n",
       "    }\n",
       "</style>\n",
       "<table border=\"1\" class=\"dataframe\">\n",
       "  <thead>\n",
       "    <tr style=\"text-align: right;\">\n",
       "      <th></th>\n",
       "      <th>main_sector</th>\n",
       "      <th>count</th>\n",
       "    </tr>\n",
       "  </thead>\n",
       "  <tbody>\n",
       "    <tr>\n",
       "      <th>6</th>\n",
       "      <td>Others</td>\n",
       "      <td>110</td>\n",
       "    </tr>\n",
       "    <tr>\n",
       "      <th>7</th>\n",
       "      <td>Social, Finance, Analytics, Advertising</td>\n",
       "      <td>60</td>\n",
       "    </tr>\n",
       "    <tr>\n",
       "      <th>5</th>\n",
       "      <td>News, Search and Messaging</td>\n",
       "      <td>52</td>\n",
       "    </tr>\n",
       "    <tr>\n",
       "      <th>2</th>\n",
       "      <td>Entertainment</td>\n",
       "      <td>33</td>\n",
       "    </tr>\n",
       "    <tr>\n",
       "      <th>4</th>\n",
       "      <td>Manufacturing</td>\n",
       "      <td>21</td>\n",
       "    </tr>\n",
       "    <tr>\n",
       "      <th>1</th>\n",
       "      <td>Cleantech / Semiconductors</td>\n",
       "      <td>20</td>\n",
       "    </tr>\n",
       "    <tr>\n",
       "      <th>3</th>\n",
       "      <td>Health</td>\n",
       "      <td>19</td>\n",
       "    </tr>\n",
       "    <tr>\n",
       "      <th>0</th>\n",
       "      <td>Automotive &amp; Sports</td>\n",
       "      <td>13</td>\n",
       "    </tr>\n",
       "  </tbody>\n",
       "</table>\n",
       "</div>"
      ],
      "text/plain": [
       "                               main_sector  count\n",
       "6                                   Others    110\n",
       "7  Social, Finance, Analytics, Advertising     60\n",
       "5               News, Search and Messaging     52\n",
       "2                            Entertainment     33\n",
       "4                            Manufacturing     21\n",
       "1               Cleantech / Semiconductors     20\n",
       "3                                   Health     19\n",
       "0                      Automotive & Sports     13"
      ]
     },
     "execution_count": 44,
     "metadata": {},
     "output_type": "execute_result"
    }
   ],
   "source": [
    "# Top sectors in D3\n",
    "\n",
    "D3.groupby('main_sector')['raised_amount_usd'].count().reset_index(name='count').sort_values(['count'], ascending=False)"
   ]
  },
  {
   "cell_type": "markdown",
   "metadata": {},
   "source": [
    "### which company received the highest investment"
   ]
  },
  {
   "cell_type": "code",
   "execution_count": 45,
   "metadata": {},
   "outputs": [
    {
     "data": {
      "text/html": [
       "<div>\n",
       "<style scoped>\n",
       "    .dataframe tbody tr th:only-of-type {\n",
       "        vertical-align: middle;\n",
       "    }\n",
       "\n",
       "    .dataframe tbody tr th {\n",
       "        vertical-align: top;\n",
       "    }\n",
       "\n",
       "    .dataframe thead th {\n",
       "        text-align: right;\n",
       "    }\n",
       "</style>\n",
       "<table border=\"1\" class=\"dataframe\">\n",
       "  <thead>\n",
       "    <tr style=\"text-align: right;\">\n",
       "      <th></th>\n",
       "      <th>permalink</th>\n",
       "      <th>amount</th>\n",
       "    </tr>\n",
       "  </thead>\n",
       "  <tbody>\n",
       "    <tr>\n",
       "      <th>1942</th>\n",
       "      <td>/organization/virtustream</td>\n",
       "      <td>64300000.0</td>\n",
       "    </tr>\n",
       "    <tr>\n",
       "      <th>309</th>\n",
       "      <td>/organization/capella</td>\n",
       "      <td>54968051.0</td>\n",
       "    </tr>\n",
       "    <tr>\n",
       "      <th>50</th>\n",
       "      <td>/organization/airtight-networks</td>\n",
       "      <td>54201907.0</td>\n",
       "    </tr>\n",
       "  </tbody>\n",
       "</table>\n",
       "</div>"
      ],
      "text/plain": [
       "                            permalink      amount\n",
       "1942        /organization/virtustream  64300000.0\n",
       "309             /organization/capella  54968051.0\n",
       "50    /organization/airtight-networks  54201907.0"
      ]
     },
     "execution_count": 45,
     "metadata": {},
     "output_type": "execute_result"
    }
   ],
   "source": [
    "# For the top sectors count-wise, company received the highest investment for D1\n",
    "\n",
    "d1s1 = D1.loc[D1.main_sector == 'Others']\n",
    "top_company_d1s1 = d1s1.groupby('permalink')['raised_amount_usd'].sum().reset_index(name='amount').sort_values(['amount'], ascending=False)\n",
    "top_company_d1s1.head(3)\n",
    "\n",
    "\n",
    "\n"
   ]
  },
  {
   "cell_type": "code",
   "execution_count": 46,
   "metadata": {},
   "outputs": [
    {
     "data": {
      "text/html": [
       "<div>\n",
       "<style scoped>\n",
       "    .dataframe tbody tr th:only-of-type {\n",
       "        vertical-align: middle;\n",
       "    }\n",
       "\n",
       "    .dataframe tbody tr th {\n",
       "        vertical-align: top;\n",
       "    }\n",
       "\n",
       "    .dataframe thead th {\n",
       "        text-align: right;\n",
       "    }\n",
       "</style>\n",
       "<table border=\"1\" class=\"dataframe\">\n",
       "  <thead>\n",
       "    <tr style=\"text-align: right;\">\n",
       "      <th></th>\n",
       "      <th>permalink</th>\n",
       "      <th>amount</th>\n",
       "    </tr>\n",
       "  </thead>\n",
       "  <tbody>\n",
       "    <tr>\n",
       "      <th>35</th>\n",
       "      <td>/organization/electric-cloud</td>\n",
       "      <td>37000000.0</td>\n",
       "    </tr>\n",
       "    <tr>\n",
       "      <th>87</th>\n",
       "      <td>/organization/sensage</td>\n",
       "      <td>36250000.0</td>\n",
       "    </tr>\n",
       "    <tr>\n",
       "      <th>36</th>\n",
       "      <td>/organization/enigmatic</td>\n",
       "      <td>32500000.0</td>\n",
       "    </tr>\n",
       "  </tbody>\n",
       "</table>\n",
       "</div>"
      ],
      "text/plain": [
       "                       permalink      amount\n",
       "35  /organization/electric-cloud  37000000.0\n",
       "87         /organization/sensage  36250000.0\n",
       "36       /organization/enigmatic  32500000.0"
      ]
     },
     "execution_count": 46,
     "metadata": {},
     "output_type": "execute_result"
    }
   ],
   "source": [
    "# For the top sectors count-wise, company received the highest investment for D2\n",
    "\n",
    "d2s1 = D2.loc[D2.main_sector == 'Others']\n",
    "top_company_d2s1 = d2s1.groupby('permalink')['raised_amount_usd'].sum().reset_index(name='amount').sort_values(['amount'], ascending=False)\n",
    "top_company_d2s1.head(3)"
   ]
  },
  {
   "cell_type": "code",
   "execution_count": 47,
   "metadata": {},
   "outputs": [
    {
     "data": {
      "text/html": [
       "<div>\n",
       "<style scoped>\n",
       "    .dataframe tbody tr th:only-of-type {\n",
       "        vertical-align: middle;\n",
       "    }\n",
       "\n",
       "    .dataframe tbody tr th {\n",
       "        vertical-align: top;\n",
       "    }\n",
       "\n",
       "    .dataframe thead th {\n",
       "        text-align: right;\n",
       "    }\n",
       "</style>\n",
       "<table border=\"1\" class=\"dataframe\">\n",
       "  <thead>\n",
       "    <tr style=\"text-align: right;\">\n",
       "      <th></th>\n",
       "      <th>permalink</th>\n",
       "      <th>amount</th>\n",
       "    </tr>\n",
       "  </thead>\n",
       "  <tbody>\n",
       "    <tr>\n",
       "      <th>27</th>\n",
       "      <td>/organization/firstcry-com</td>\n",
       "      <td>39000000.0</td>\n",
       "    </tr>\n",
       "    <tr>\n",
       "      <th>48</th>\n",
       "      <td>/organization/myntra</td>\n",
       "      <td>38000000.0</td>\n",
       "    </tr>\n",
       "    <tr>\n",
       "      <th>16</th>\n",
       "      <td>/organization/commonfloor</td>\n",
       "      <td>32900000.0</td>\n",
       "    </tr>\n",
       "  </tbody>\n",
       "</table>\n",
       "</div>"
      ],
      "text/plain": [
       "                     permalink      amount\n",
       "27  /organization/firstcry-com  39000000.0\n",
       "48        /organization/myntra  38000000.0\n",
       "16   /organization/commonfloor  32900000.0"
      ]
     },
     "execution_count": 47,
     "metadata": {},
     "output_type": "execute_result"
    }
   ],
   "source": [
    "# For the top sectors count-wise, company received the highest investment for D3\n",
    "\n",
    "d3s1 = D3.loc[D3.main_sector == 'Others']\n",
    "top_company_d3s1 = d3s1.groupby('permalink')['raised_amount_usd'].sum().reset_index(name='amount').sort_values(['amount'], ascending=False)\n",
    "top_company_d3s1.head(3)"
   ]
  },
  {
   "cell_type": "code",
   "execution_count": 48,
   "metadata": {},
   "outputs": [
    {
     "data": {
      "text/html": [
       "<div>\n",
       "<style scoped>\n",
       "    .dataframe tbody tr th:only-of-type {\n",
       "        vertical-align: middle;\n",
       "    }\n",
       "\n",
       "    .dataframe tbody tr th {\n",
       "        vertical-align: top;\n",
       "    }\n",
       "\n",
       "    .dataframe thead th {\n",
       "        text-align: right;\n",
       "    }\n",
       "</style>\n",
       "<table border=\"1\" class=\"dataframe\">\n",
       "  <thead>\n",
       "    <tr style=\"text-align: right;\">\n",
       "      <th></th>\n",
       "      <th>permalink</th>\n",
       "      <th>amount</th>\n",
       "    </tr>\n",
       "  </thead>\n",
       "  <tbody>\n",
       "    <tr>\n",
       "      <th>1430</th>\n",
       "      <td>/organization/shotspotter</td>\n",
       "      <td>67933006.0</td>\n",
       "    </tr>\n",
       "    <tr>\n",
       "      <th>461</th>\n",
       "      <td>/organization/demandbase</td>\n",
       "      <td>63000000.0</td>\n",
       "    </tr>\n",
       "    <tr>\n",
       "      <th>775</th>\n",
       "      <td>/organization/intacct</td>\n",
       "      <td>61800000.0</td>\n",
       "    </tr>\n",
       "  </tbody>\n",
       "</table>\n",
       "</div>"
      ],
      "text/plain": [
       "                      permalink      amount\n",
       "1430  /organization/shotspotter  67933006.0\n",
       "461    /organization/demandbase  63000000.0\n",
       "775       /organization/intacct  61800000.0"
      ]
     },
     "execution_count": 48,
     "metadata": {},
     "output_type": "execute_result"
    }
   ],
   "source": [
    "# For the second best sectors count-wise, company received the highest investment for D1\n",
    "d1s2 = D1.loc[D1.main_sector == 'Social, Finance, Analytics, Advertising']\n",
    "top_company_d1s2 = d1s2.groupby('permalink')['raised_amount_usd'].sum().reset_index(name='amount').sort_values(['amount'], ascending=False)\n",
    "top_company_d1s2.head(3)"
   ]
  },
  {
   "cell_type": "code",
   "execution_count": 49,
   "metadata": {},
   "outputs": [
    {
     "data": {
      "text/html": [
       "<div>\n",
       "<style scoped>\n",
       "    .dataframe tbody tr th:only-of-type {\n",
       "        vertical-align: middle;\n",
       "    }\n",
       "\n",
       "    .dataframe tbody tr th {\n",
       "        vertical-align: top;\n",
       "    }\n",
       "\n",
       "    .dataframe thead th {\n",
       "        text-align: right;\n",
       "    }\n",
       "</style>\n",
       "<table border=\"1\" class=\"dataframe\">\n",
       "  <thead>\n",
       "    <tr style=\"text-align: right;\">\n",
       "      <th></th>\n",
       "      <th>permalink</th>\n",
       "      <th>amount</th>\n",
       "    </tr>\n",
       "  </thead>\n",
       "  <tbody>\n",
       "    <tr>\n",
       "      <th>21</th>\n",
       "      <td>/organization/celltick-technologies</td>\n",
       "      <td>37500000.0</td>\n",
       "    </tr>\n",
       "    <tr>\n",
       "      <th>59</th>\n",
       "      <td>/organization/mythings</td>\n",
       "      <td>34000000.0</td>\n",
       "    </tr>\n",
       "    <tr>\n",
       "      <th>103</th>\n",
       "      <td>/organization/zopa</td>\n",
       "      <td>32900000.0</td>\n",
       "    </tr>\n",
       "  </tbody>\n",
       "</table>\n",
       "</div>"
      ],
      "text/plain": [
       "                               permalink      amount\n",
       "21   /organization/celltick-technologies  37500000.0\n",
       "59                /organization/mythings  34000000.0\n",
       "103                   /organization/zopa  32900000.0"
      ]
     },
     "execution_count": 49,
     "metadata": {},
     "output_type": "execute_result"
    }
   ],
   "source": [
    "# For the second best sectors count-wise, company received the highest investment for D2\n",
    "\n",
    "d2s2 = D2.loc[D2.main_sector == 'Social, Finance, Analytics, Advertising']\n",
    "top_company_d2s2 = d2s2.groupby('permalink')['raised_amount_usd'].sum().reset_index(name='amount').sort_values(['amount'], ascending=False)\n",
    "top_company_d2s2.head(3)\n"
   ]
  },
  {
   "cell_type": "code",
   "execution_count": 50,
   "metadata": {},
   "outputs": [
    {
     "data": {
      "text/html": [
       "<div>\n",
       "<style scoped>\n",
       "    .dataframe tbody tr th:only-of-type {\n",
       "        vertical-align: middle;\n",
       "    }\n",
       "\n",
       "    .dataframe tbody tr th {\n",
       "        vertical-align: top;\n",
       "    }\n",
       "\n",
       "    .dataframe thead th {\n",
       "        text-align: right;\n",
       "    }\n",
       "</style>\n",
       "<table border=\"1\" class=\"dataframe\">\n",
       "  <thead>\n",
       "    <tr style=\"text-align: right;\">\n",
       "      <th></th>\n",
       "      <th>permalink</th>\n",
       "      <th>amount</th>\n",
       "    </tr>\n",
       "  </thead>\n",
       "  <tbody>\n",
       "    <tr>\n",
       "      <th>31</th>\n",
       "      <td>/organization/manthan-systems</td>\n",
       "      <td>50700000.0</td>\n",
       "    </tr>\n",
       "    <tr>\n",
       "      <th>28</th>\n",
       "      <td>/organization/komli-media</td>\n",
       "      <td>28000000.0</td>\n",
       "    </tr>\n",
       "    <tr>\n",
       "      <th>41</th>\n",
       "      <td>/organization/shopclues-com</td>\n",
       "      <td>25000000.0</td>\n",
       "    </tr>\n",
       "  </tbody>\n",
       "</table>\n",
       "</div>"
      ],
      "text/plain": [
       "                        permalink      amount\n",
       "31  /organization/manthan-systems  50700000.0\n",
       "28      /organization/komli-media  28000000.0\n",
       "41    /organization/shopclues-com  25000000.0"
      ]
     },
     "execution_count": 50,
     "metadata": {},
     "output_type": "execute_result"
    }
   ],
   "source": [
    "# For the second best sectors count-wise, company received the highest investment for D3\n",
    "\n",
    "d3s2 = D3.loc[D3.main_sector == 'Social, Finance, Analytics, Advertising']\n",
    "top_company_d3s2 = d3s2.groupby('permalink')['raised_amount_usd'].sum().reset_index(name='amount').sort_values(['amount'], ascending=False)\n",
    "top_company_d3s2.head(3)"
   ]
  }
 ],
 "metadata": {
  "kernelspec": {
   "display_name": "Python 3",
   "language": "python",
   "name": "python3"
  },
  "language_info": {
   "codemirror_mode": {
    "name": "ipython",
    "version": 3
   },
   "file_extension": ".py",
   "mimetype": "text/x-python",
   "name": "python",
   "nbconvert_exporter": "python",
   "pygments_lexer": "ipython3",
   "version": "3.6.5"
  }
 },
 "nbformat": 4,
 "nbformat_minor": 2
}
