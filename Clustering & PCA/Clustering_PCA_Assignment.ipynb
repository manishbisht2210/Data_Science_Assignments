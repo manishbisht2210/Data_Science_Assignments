{
 "cells": [
  {
   "cell_type": "markdown",
   "metadata": {},
   "source": [
    "# Clustering And PCA Assignment"
   ]
  },
  {
   "cell_type": "markdown",
   "metadata": {},
   "source": [
    "Our main task is to cluster the countries by the factors mentioned and then present our solution and recommendations to the CEO using a PPT. We are also supposed to use dimensionality reduction using PCA to get the visualisations of the clusters in a 2-D form. "
   ]
  },
  {
   "cell_type": "markdown",
   "metadata": {},
   "source": [
    "### Importing Packages"
   ]
  },
  {
   "cell_type": "code",
   "execution_count": 1,
   "metadata": {},
   "outputs": [],
   "source": [
    "# Supress Warnings\n",
    "\n",
    "import warnings\n",
    "warnings.filterwarnings('ignore')"
   ]
  },
  {
   "cell_type": "code",
   "execution_count": 2,
   "metadata": {},
   "outputs": [],
   "source": [
    "# Importing all required packages\n",
    "import pandas as pd\n",
    "import numpy as np\n",
    "\n",
    "# For Visualisation\n",
    "import matplotlib.pyplot as plt\n",
    "import seaborn as sns\n",
    "%matplotlib inline\n",
    "\n",
    "#Improting the PCA module\n",
    "from sklearn.decomposition import PCA\n",
    "\n",
    "# To perform KMeans clustering \n",
    "from sklearn.cluster import KMeans\n",
    "\n",
    "# To perform Hierarchical clustering\n",
    "from scipy.cluster.hierarchy import linkage\n",
    "from scipy.cluster.hierarchy import dendrogram\n",
    "from scipy.cluster.hierarchy import cut_tree"
   ]
  },
  {
   "cell_type": "code",
   "execution_count": 3,
   "metadata": {},
   "outputs": [],
   "source": [
    "country_data = pd.read_csv(\"Country-data.csv\")"
   ]
  },
  {
   "cell_type": "markdown",
   "metadata": {},
   "source": [
    "### Reading and Inspection"
   ]
  },
  {
   "cell_type": "code",
   "execution_count": 4,
   "metadata": {},
   "outputs": [
    {
     "data": {
      "text/html": [
       "<div>\n",
       "<style scoped>\n",
       "    .dataframe tbody tr th:only-of-type {\n",
       "        vertical-align: middle;\n",
       "    }\n",
       "\n",
       "    .dataframe tbody tr th {\n",
       "        vertical-align: top;\n",
       "    }\n",
       "\n",
       "    .dataframe thead th {\n",
       "        text-align: right;\n",
       "    }\n",
       "</style>\n",
       "<table border=\"1\" class=\"dataframe\">\n",
       "  <thead>\n",
       "    <tr style=\"text-align: right;\">\n",
       "      <th></th>\n",
       "      <th>country</th>\n",
       "      <th>child_mort</th>\n",
       "      <th>exports</th>\n",
       "      <th>health</th>\n",
       "      <th>imports</th>\n",
       "      <th>income</th>\n",
       "      <th>inflation</th>\n",
       "      <th>life_expec</th>\n",
       "      <th>total_fer</th>\n",
       "      <th>gdpp</th>\n",
       "    </tr>\n",
       "  </thead>\n",
       "  <tbody>\n",
       "    <tr>\n",
       "      <th>0</th>\n",
       "      <td>Afghanistan</td>\n",
       "      <td>90.2</td>\n",
       "      <td>10.0</td>\n",
       "      <td>7.58</td>\n",
       "      <td>44.9</td>\n",
       "      <td>1610</td>\n",
       "      <td>9.44</td>\n",
       "      <td>56.2</td>\n",
       "      <td>5.82</td>\n",
       "      <td>553</td>\n",
       "    </tr>\n",
       "    <tr>\n",
       "      <th>1</th>\n",
       "      <td>Albania</td>\n",
       "      <td>16.6</td>\n",
       "      <td>28.0</td>\n",
       "      <td>6.55</td>\n",
       "      <td>48.6</td>\n",
       "      <td>9930</td>\n",
       "      <td>4.49</td>\n",
       "      <td>76.3</td>\n",
       "      <td>1.65</td>\n",
       "      <td>4090</td>\n",
       "    </tr>\n",
       "    <tr>\n",
       "      <th>2</th>\n",
       "      <td>Algeria</td>\n",
       "      <td>27.3</td>\n",
       "      <td>38.4</td>\n",
       "      <td>4.17</td>\n",
       "      <td>31.4</td>\n",
       "      <td>12900</td>\n",
       "      <td>16.10</td>\n",
       "      <td>76.5</td>\n",
       "      <td>2.89</td>\n",
       "      <td>4460</td>\n",
       "    </tr>\n",
       "    <tr>\n",
       "      <th>3</th>\n",
       "      <td>Angola</td>\n",
       "      <td>119.0</td>\n",
       "      <td>62.3</td>\n",
       "      <td>2.85</td>\n",
       "      <td>42.9</td>\n",
       "      <td>5900</td>\n",
       "      <td>22.40</td>\n",
       "      <td>60.1</td>\n",
       "      <td>6.16</td>\n",
       "      <td>3530</td>\n",
       "    </tr>\n",
       "    <tr>\n",
       "      <th>4</th>\n",
       "      <td>Antigua and Barbuda</td>\n",
       "      <td>10.3</td>\n",
       "      <td>45.5</td>\n",
       "      <td>6.03</td>\n",
       "      <td>58.9</td>\n",
       "      <td>19100</td>\n",
       "      <td>1.44</td>\n",
       "      <td>76.8</td>\n",
       "      <td>2.13</td>\n",
       "      <td>12200</td>\n",
       "    </tr>\n",
       "  </tbody>\n",
       "</table>\n",
       "</div>"
      ],
      "text/plain": [
       "               country  child_mort  exports  health  imports  income  \\\n",
       "0          Afghanistan        90.2     10.0    7.58     44.9    1610   \n",
       "1              Albania        16.6     28.0    6.55     48.6    9930   \n",
       "2              Algeria        27.3     38.4    4.17     31.4   12900   \n",
       "3               Angola       119.0     62.3    2.85     42.9    5900   \n",
       "4  Antigua and Barbuda        10.3     45.5    6.03     58.9   19100   \n",
       "\n",
       "   inflation  life_expec  total_fer   gdpp  \n",
       "0       9.44        56.2       5.82    553  \n",
       "1       4.49        76.3       1.65   4090  \n",
       "2      16.10        76.5       2.89   4460  \n",
       "3      22.40        60.1       6.16   3530  \n",
       "4       1.44        76.8       2.13  12200  "
      ]
     },
     "execution_count": 4,
     "metadata": {},
     "output_type": "execute_result"
    }
   ],
   "source": [
    "country_data.head()"
   ]
  },
  {
   "cell_type": "code",
   "execution_count": 5,
   "metadata": {},
   "outputs": [
    {
     "name": "stdout",
     "output_type": "stream",
     "text": [
      "<class 'pandas.core.frame.DataFrame'>\n",
      "RangeIndex: 167 entries, 0 to 166\n",
      "Data columns (total 10 columns):\n",
      "country       167 non-null object\n",
      "child_mort    167 non-null float64\n",
      "exports       167 non-null float64\n",
      "health        167 non-null float64\n",
      "imports       167 non-null float64\n",
      "income        167 non-null int64\n",
      "inflation     167 non-null float64\n",
      "life_expec    167 non-null float64\n",
      "total_fer     167 non-null float64\n",
      "gdpp          167 non-null int64\n",
      "dtypes: float64(7), int64(2), object(1)\n",
      "memory usage: 13.1+ KB\n"
     ]
    }
   ],
   "source": [
    "country_data.info()"
   ]
  },
  {
   "cell_type": "code",
   "execution_count": 6,
   "metadata": {},
   "outputs": [
    {
     "data": {
      "text/html": [
       "<div>\n",
       "<style scoped>\n",
       "    .dataframe tbody tr th:only-of-type {\n",
       "        vertical-align: middle;\n",
       "    }\n",
       "\n",
       "    .dataframe tbody tr th {\n",
       "        vertical-align: top;\n",
       "    }\n",
       "\n",
       "    .dataframe thead th {\n",
       "        text-align: right;\n",
       "    }\n",
       "</style>\n",
       "<table border=\"1\" class=\"dataframe\">\n",
       "  <thead>\n",
       "    <tr style=\"text-align: right;\">\n",
       "      <th></th>\n",
       "      <th>child_mort</th>\n",
       "      <th>exports</th>\n",
       "      <th>health</th>\n",
       "      <th>imports</th>\n",
       "      <th>income</th>\n",
       "      <th>inflation</th>\n",
       "      <th>life_expec</th>\n",
       "      <th>total_fer</th>\n",
       "      <th>gdpp</th>\n",
       "    </tr>\n",
       "  </thead>\n",
       "  <tbody>\n",
       "    <tr>\n",
       "      <th>count</th>\n",
       "      <td>167.000000</td>\n",
       "      <td>167.000000</td>\n",
       "      <td>167.000000</td>\n",
       "      <td>167.000000</td>\n",
       "      <td>167.000000</td>\n",
       "      <td>167.000000</td>\n",
       "      <td>167.000000</td>\n",
       "      <td>167.000000</td>\n",
       "      <td>167.000000</td>\n",
       "    </tr>\n",
       "    <tr>\n",
       "      <th>mean</th>\n",
       "      <td>38.270060</td>\n",
       "      <td>41.108976</td>\n",
       "      <td>6.815689</td>\n",
       "      <td>46.890215</td>\n",
       "      <td>17144.688623</td>\n",
       "      <td>7.781832</td>\n",
       "      <td>70.555689</td>\n",
       "      <td>2.947964</td>\n",
       "      <td>12964.155689</td>\n",
       "    </tr>\n",
       "    <tr>\n",
       "      <th>std</th>\n",
       "      <td>40.328931</td>\n",
       "      <td>27.412010</td>\n",
       "      <td>2.746837</td>\n",
       "      <td>24.209589</td>\n",
       "      <td>19278.067698</td>\n",
       "      <td>10.570704</td>\n",
       "      <td>8.893172</td>\n",
       "      <td>1.513848</td>\n",
       "      <td>18328.704809</td>\n",
       "    </tr>\n",
       "    <tr>\n",
       "      <th>min</th>\n",
       "      <td>2.600000</td>\n",
       "      <td>0.109000</td>\n",
       "      <td>1.810000</td>\n",
       "      <td>0.065900</td>\n",
       "      <td>609.000000</td>\n",
       "      <td>-4.210000</td>\n",
       "      <td>32.100000</td>\n",
       "      <td>1.150000</td>\n",
       "      <td>231.000000</td>\n",
       "    </tr>\n",
       "    <tr>\n",
       "      <th>25%</th>\n",
       "      <td>8.250000</td>\n",
       "      <td>23.800000</td>\n",
       "      <td>4.920000</td>\n",
       "      <td>30.200000</td>\n",
       "      <td>3355.000000</td>\n",
       "      <td>1.810000</td>\n",
       "      <td>65.300000</td>\n",
       "      <td>1.795000</td>\n",
       "      <td>1330.000000</td>\n",
       "    </tr>\n",
       "    <tr>\n",
       "      <th>50%</th>\n",
       "      <td>19.300000</td>\n",
       "      <td>35.000000</td>\n",
       "      <td>6.320000</td>\n",
       "      <td>43.300000</td>\n",
       "      <td>9960.000000</td>\n",
       "      <td>5.390000</td>\n",
       "      <td>73.100000</td>\n",
       "      <td>2.410000</td>\n",
       "      <td>4660.000000</td>\n",
       "    </tr>\n",
       "    <tr>\n",
       "      <th>75%</th>\n",
       "      <td>62.100000</td>\n",
       "      <td>51.350000</td>\n",
       "      <td>8.600000</td>\n",
       "      <td>58.750000</td>\n",
       "      <td>22800.000000</td>\n",
       "      <td>10.750000</td>\n",
       "      <td>76.800000</td>\n",
       "      <td>3.880000</td>\n",
       "      <td>14050.000000</td>\n",
       "    </tr>\n",
       "    <tr>\n",
       "      <th>max</th>\n",
       "      <td>208.000000</td>\n",
       "      <td>200.000000</td>\n",
       "      <td>17.900000</td>\n",
       "      <td>174.000000</td>\n",
       "      <td>125000.000000</td>\n",
       "      <td>104.000000</td>\n",
       "      <td>82.800000</td>\n",
       "      <td>7.490000</td>\n",
       "      <td>105000.000000</td>\n",
       "    </tr>\n",
       "  </tbody>\n",
       "</table>\n",
       "</div>"
      ],
      "text/plain": [
       "       child_mort     exports      health     imports         income  \\\n",
       "count  167.000000  167.000000  167.000000  167.000000     167.000000   \n",
       "mean    38.270060   41.108976    6.815689   46.890215   17144.688623   \n",
       "std     40.328931   27.412010    2.746837   24.209589   19278.067698   \n",
       "min      2.600000    0.109000    1.810000    0.065900     609.000000   \n",
       "25%      8.250000   23.800000    4.920000   30.200000    3355.000000   \n",
       "50%     19.300000   35.000000    6.320000   43.300000    9960.000000   \n",
       "75%     62.100000   51.350000    8.600000   58.750000   22800.000000   \n",
       "max    208.000000  200.000000   17.900000  174.000000  125000.000000   \n",
       "\n",
       "        inflation  life_expec   total_fer           gdpp  \n",
       "count  167.000000  167.000000  167.000000     167.000000  \n",
       "mean     7.781832   70.555689    2.947964   12964.155689  \n",
       "std     10.570704    8.893172    1.513848   18328.704809  \n",
       "min     -4.210000   32.100000    1.150000     231.000000  \n",
       "25%      1.810000   65.300000    1.795000    1330.000000  \n",
       "50%      5.390000   73.100000    2.410000    4660.000000  \n",
       "75%     10.750000   76.800000    3.880000   14050.000000  \n",
       "max    104.000000   82.800000    7.490000  105000.000000  "
      ]
     },
     "execution_count": 6,
     "metadata": {},
     "output_type": "execute_result"
    }
   ],
   "source": [
    "country_data.describe()"
   ]
  },
  {
   "cell_type": "markdown",
   "metadata": {},
   "source": [
    "### Outlier Treatment"
   ]
  },
  {
   "cell_type": "code",
   "execution_count": 7,
   "metadata": {},
   "outputs": [],
   "source": [
    "# Exports\n",
    "Q1 = country_data['exports'].quantile(0.25)\n",
    "Q3 = country_data['exports'].quantile(0.75)\n",
    "IQR = Q3 - Q1\n",
    "country_data = country_data[(country_data['exports'] >= Q1 - 1.5*IQR) & (country_data['exports'] <= Q3 + 1.5*IQR)]\n",
    "\n",
    "# Child Mort\n",
    "Q1 = country_data['child_mort'].quantile(0.25)\n",
    "Q3 = country_data['child_mort'].quantile(0.75)\n",
    "IQR = Q3 - Q1\n",
    "country_data = country_data[(country_data['child_mort'] >= Q1 - 1.5*IQR) & (country_data['child_mort'] <= Q3 + 1.5*IQR)]\n",
    "\n",
    "# Health\n",
    "Q1 = country_data['health'].quantile(0.25)\n",
    "Q3 = country_data['health'].quantile(0.75)\n",
    "IQR = Q3 - Q1\n",
    "country_data = country_data[(country_data['health'] >= Q1 - 1.5*IQR) & (country_data['health'] <= Q3 + 1.5*IQR)]\n",
    "\n",
    "# Imports\n",
    "Q1 = country_data['imports'].quantile(0.25)\n",
    "Q3 = country_data['imports'].quantile(0.75)\n",
    "IQR = Q3 - Q1\n",
    "country_data = country_data[(country_data['imports'] >= Q1 - 1.5*IQR) & (country_data['imports'] <= Q3 + 1.5*IQR)]\n",
    "\n",
    "# GDPP\n",
    "Q1 = country_data['gdpp'].quantile(0.25)\n",
    "Q3 = country_data['gdpp'].quantile(0.75)\n",
    "IQR = Q3 - Q1\n",
    "country_data = country_data[(country_data['gdpp'] >= Q1 - 1.5*IQR) & (country_data['gdpp'] <= Q3 + 1.5*IQR)]\n",
    "\n",
    "# Inflation\n",
    "Q1 = country_data['inflation'].quantile(0.25)\n",
    "Q3 = country_data['inflation'].quantile(0.75)\n",
    "IQR = Q3 - Q1\n",
    "country_data = country_data[(country_data['inflation'] >= Q1 - 1.5*IQR) & (country_data['inflation'] <= Q3 + 1.5*IQR)]\n",
    "\n",
    "# Income\n",
    "Q1 = country_data['income'].quantile(0.25)\n",
    "Q3 = country_data['income'].quantile(0.75)\n",
    "IQR = Q3 - Q1\n",
    "country_data = country_data[(country_data['income'] >= Q1 - 1.5*IQR) & (country_data['income'] <= Q3 + 1.5*IQR)]\n",
    "\n",
    "# Life expec\n",
    "Q1 = country_data['life_expec'].quantile(0.25)\n",
    "Q3 = country_data['life_expec'].quantile(0.75)\n",
    "IQR = Q3 - Q1\n",
    "country_data = country_data[(country_data['life_expec'] >= Q1 - 1.5*IQR) & (country_data['life_expec'] <= Q3 + 1.5*IQR)]\n",
    "\n",
    "# Total fer\n",
    "Q1 = country_data['total_fer'].quantile(0.25)\n",
    "Q3 = country_data['total_fer'].quantile(0.75)\n",
    "IQR = Q3 - Q1\n",
    "country_data = country_data[(country_data['total_fer'] >= Q1 - 1.5*IQR) & (country_data['total_fer'] <= Q3 + 1.5*IQR)]"
   ]
  },
  {
   "cell_type": "code",
   "execution_count": 8,
   "metadata": {},
   "outputs": [
    {
     "data": {
      "text/html": [
       "<div>\n",
       "<style scoped>\n",
       "    .dataframe tbody tr th:only-of-type {\n",
       "        vertical-align: middle;\n",
       "    }\n",
       "\n",
       "    .dataframe tbody tr th {\n",
       "        vertical-align: top;\n",
       "    }\n",
       "\n",
       "    .dataframe thead th {\n",
       "        text-align: right;\n",
       "    }\n",
       "</style>\n",
       "<table border=\"1\" class=\"dataframe\">\n",
       "  <thead>\n",
       "    <tr style=\"text-align: right;\">\n",
       "      <th></th>\n",
       "      <th>child_mort</th>\n",
       "      <th>exports</th>\n",
       "      <th>health</th>\n",
       "      <th>imports</th>\n",
       "      <th>income</th>\n",
       "      <th>inflation</th>\n",
       "      <th>life_expec</th>\n",
       "      <th>total_fer</th>\n",
       "      <th>gdpp</th>\n",
       "    </tr>\n",
       "  </thead>\n",
       "  <tbody>\n",
       "    <tr>\n",
       "      <th>count</th>\n",
       "      <td>128.000000</td>\n",
       "      <td>128.000000</td>\n",
       "      <td>128.000000</td>\n",
       "      <td>128.000000</td>\n",
       "      <td>128.000000</td>\n",
       "      <td>128.000000</td>\n",
       "      <td>128.000000</td>\n",
       "      <td>128.000000</td>\n",
       "      <td>128.000000</td>\n",
       "    </tr>\n",
       "    <tr>\n",
       "      <th>mean</th>\n",
       "      <td>40.835156</td>\n",
       "      <td>36.844523</td>\n",
       "      <td>6.397578</td>\n",
       "      <td>45.210671</td>\n",
       "      <td>10404.257812</td>\n",
       "      <td>7.446836</td>\n",
       "      <td>69.410156</td>\n",
       "      <td>3.106016</td>\n",
       "      <td>6127.343750</td>\n",
       "    </tr>\n",
       "    <tr>\n",
       "      <th>std</th>\n",
       "      <td>35.122072</td>\n",
       "      <td>19.166882</td>\n",
       "      <td>2.201190</td>\n",
       "      <td>17.839605</td>\n",
       "      <td>8661.998540</td>\n",
       "      <td>6.476804</td>\n",
       "      <td>7.449746</td>\n",
       "      <td>1.552976</td>\n",
       "      <td>6925.070115</td>\n",
       "    </tr>\n",
       "    <tr>\n",
       "      <th>min</th>\n",
       "      <td>3.200000</td>\n",
       "      <td>0.109000</td>\n",
       "      <td>1.970000</td>\n",
       "      <td>0.065900</td>\n",
       "      <td>609.000000</td>\n",
       "      <td>-1.430000</td>\n",
       "      <td>52.000000</td>\n",
       "      <td>1.230000</td>\n",
       "      <td>231.000000</td>\n",
       "    </tr>\n",
       "    <tr>\n",
       "      <th>25%</th>\n",
       "      <td>13.650000</td>\n",
       "      <td>22.775000</td>\n",
       "      <td>4.967500</td>\n",
       "      <td>31.200000</td>\n",
       "      <td>2910.000000</td>\n",
       "      <td>2.255000</td>\n",
       "      <td>63.600000</td>\n",
       "      <td>1.795000</td>\n",
       "      <td>1272.500000</td>\n",
       "    </tr>\n",
       "    <tr>\n",
       "      <th>50%</th>\n",
       "      <td>25.800000</td>\n",
       "      <td>32.800000</td>\n",
       "      <td>6.020000</td>\n",
       "      <td>44.100000</td>\n",
       "      <td>8215.000000</td>\n",
       "      <td>5.805000</td>\n",
       "      <td>70.800000</td>\n",
       "      <td>2.600000</td>\n",
       "      <td>3625.000000</td>\n",
       "    </tr>\n",
       "    <tr>\n",
       "      <th>75%</th>\n",
       "      <td>62.925000</td>\n",
       "      <td>50.200000</td>\n",
       "      <td>7.882500</td>\n",
       "      <td>58.225000</td>\n",
       "      <td>15525.000000</td>\n",
       "      <td>10.950000</td>\n",
       "      <td>75.575000</td>\n",
       "      <td>4.405000</td>\n",
       "      <td>8207.500000</td>\n",
       "    </tr>\n",
       "    <tr>\n",
       "      <th>max</th>\n",
       "      <td>137.000000</td>\n",
       "      <td>86.900000</td>\n",
       "      <td>11.800000</td>\n",
       "      <td>92.600000</td>\n",
       "      <td>33900.000000</td>\n",
       "      <td>26.500000</td>\n",
       "      <td>81.900000</td>\n",
       "      <td>7.490000</td>\n",
       "      <td>30800.000000</td>\n",
       "    </tr>\n",
       "  </tbody>\n",
       "</table>\n",
       "</div>"
      ],
      "text/plain": [
       "       child_mort     exports      health     imports        income  \\\n",
       "count  128.000000  128.000000  128.000000  128.000000    128.000000   \n",
       "mean    40.835156   36.844523    6.397578   45.210671  10404.257812   \n",
       "std     35.122072   19.166882    2.201190   17.839605   8661.998540   \n",
       "min      3.200000    0.109000    1.970000    0.065900    609.000000   \n",
       "25%     13.650000   22.775000    4.967500   31.200000   2910.000000   \n",
       "50%     25.800000   32.800000    6.020000   44.100000   8215.000000   \n",
       "75%     62.925000   50.200000    7.882500   58.225000  15525.000000   \n",
       "max    137.000000   86.900000   11.800000   92.600000  33900.000000   \n",
       "\n",
       "        inflation  life_expec   total_fer          gdpp  \n",
       "count  128.000000  128.000000  128.000000    128.000000  \n",
       "mean     7.446836   69.410156    3.106016   6127.343750  \n",
       "std      6.476804    7.449746    1.552976   6925.070115  \n",
       "min     -1.430000   52.000000    1.230000    231.000000  \n",
       "25%      2.255000   63.600000    1.795000   1272.500000  \n",
       "50%      5.805000   70.800000    2.600000   3625.000000  \n",
       "75%     10.950000   75.575000    4.405000   8207.500000  \n",
       "max     26.500000   81.900000    7.490000  30800.000000  "
      ]
     },
     "execution_count": 8,
     "metadata": {},
     "output_type": "execute_result"
    }
   ],
   "source": [
    "country_data.describe()"
   ]
  },
  {
   "cell_type": "markdown",
   "metadata": {},
   "source": [
    "### Feature Standardisation"
   ]
  },
  {
   "cell_type": "code",
   "execution_count": 9,
   "metadata": {},
   "outputs": [
    {
     "data": {
      "text/html": [
       "<div>\n",
       "<style scoped>\n",
       "    .dataframe tbody tr th:only-of-type {\n",
       "        vertical-align: middle;\n",
       "    }\n",
       "\n",
       "    .dataframe tbody tr th {\n",
       "        vertical-align: top;\n",
       "    }\n",
       "\n",
       "    .dataframe thead th {\n",
       "        text-align: right;\n",
       "    }\n",
       "</style>\n",
       "<table border=\"1\" class=\"dataframe\">\n",
       "  <thead>\n",
       "    <tr style=\"text-align: right;\">\n",
       "      <th></th>\n",
       "      <th>child_mort</th>\n",
       "      <th>exports</th>\n",
       "      <th>health</th>\n",
       "      <th>imports</th>\n",
       "      <th>income</th>\n",
       "      <th>inflation</th>\n",
       "      <th>life_expec</th>\n",
       "      <th>total_fer</th>\n",
       "      <th>gdpp</th>\n",
       "    </tr>\n",
       "  </thead>\n",
       "  <tbody>\n",
       "    <tr>\n",
       "      <th>0</th>\n",
       "      <td>90.2</td>\n",
       "      <td>10.0</td>\n",
       "      <td>7.58</td>\n",
       "      <td>44.9</td>\n",
       "      <td>1610</td>\n",
       "      <td>9.44</td>\n",
       "      <td>56.2</td>\n",
       "      <td>5.82</td>\n",
       "      <td>553</td>\n",
       "    </tr>\n",
       "    <tr>\n",
       "      <th>1</th>\n",
       "      <td>16.6</td>\n",
       "      <td>28.0</td>\n",
       "      <td>6.55</td>\n",
       "      <td>48.6</td>\n",
       "      <td>9930</td>\n",
       "      <td>4.49</td>\n",
       "      <td>76.3</td>\n",
       "      <td>1.65</td>\n",
       "      <td>4090</td>\n",
       "    </tr>\n",
       "    <tr>\n",
       "      <th>2</th>\n",
       "      <td>27.3</td>\n",
       "      <td>38.4</td>\n",
       "      <td>4.17</td>\n",
       "      <td>31.4</td>\n",
       "      <td>12900</td>\n",
       "      <td>16.10</td>\n",
       "      <td>76.5</td>\n",
       "      <td>2.89</td>\n",
       "      <td>4460</td>\n",
       "    </tr>\n",
       "    <tr>\n",
       "      <th>3</th>\n",
       "      <td>119.0</td>\n",
       "      <td>62.3</td>\n",
       "      <td>2.85</td>\n",
       "      <td>42.9</td>\n",
       "      <td>5900</td>\n",
       "      <td>22.40</td>\n",
       "      <td>60.1</td>\n",
       "      <td>6.16</td>\n",
       "      <td>3530</td>\n",
       "    </tr>\n",
       "    <tr>\n",
       "      <th>4</th>\n",
       "      <td>10.3</td>\n",
       "      <td>45.5</td>\n",
       "      <td>6.03</td>\n",
       "      <td>58.9</td>\n",
       "      <td>19100</td>\n",
       "      <td>1.44</td>\n",
       "      <td>76.8</td>\n",
       "      <td>2.13</td>\n",
       "      <td>12200</td>\n",
       "    </tr>\n",
       "  </tbody>\n",
       "</table>\n",
       "</div>"
      ],
      "text/plain": [
       "   child_mort  exports  health  imports  income  inflation  life_expec  \\\n",
       "0        90.2     10.0    7.58     44.9    1610       9.44        56.2   \n",
       "1        16.6     28.0    6.55     48.6    9930       4.49        76.3   \n",
       "2        27.3     38.4    4.17     31.4   12900      16.10        76.5   \n",
       "3       119.0     62.3    2.85     42.9    5900      22.40        60.1   \n",
       "4        10.3     45.5    6.03     58.9   19100       1.44        76.8   \n",
       "\n",
       "   total_fer   gdpp  \n",
       "0       5.82    553  \n",
       "1       1.65   4090  \n",
       "2       2.89   4460  \n",
       "3       6.16   3530  \n",
       "4       2.13  12200  "
      ]
     },
     "execution_count": 9,
     "metadata": {},
     "output_type": "execute_result"
    }
   ],
   "source": [
    "#Removing Country from data\n",
    "std_country_data = country_data.drop(\"country\",axis=1)\n",
    "std_country_data.head()"
   ]
  },
  {
   "cell_type": "code",
   "execution_count": 10,
   "metadata": {},
   "outputs": [
    {
     "data": {
      "text/html": [
       "<div>\n",
       "<style scoped>\n",
       "    .dataframe tbody tr th:only-of-type {\n",
       "        vertical-align: middle;\n",
       "    }\n",
       "\n",
       "    .dataframe tbody tr th {\n",
       "        vertical-align: top;\n",
       "    }\n",
       "\n",
       "    .dataframe thead th {\n",
       "        text-align: right;\n",
       "    }\n",
       "</style>\n",
       "<table border=\"1\" class=\"dataframe\">\n",
       "  <thead>\n",
       "    <tr style=\"text-align: right;\">\n",
       "      <th></th>\n",
       "      <th>child_mort</th>\n",
       "      <th>exports</th>\n",
       "      <th>health</th>\n",
       "      <th>imports</th>\n",
       "      <th>income</th>\n",
       "      <th>inflation</th>\n",
       "      <th>life_expec</th>\n",
       "      <th>total_fer</th>\n",
       "      <th>gdpp</th>\n",
       "    </tr>\n",
       "  </thead>\n",
       "  <tbody>\n",
       "    <tr>\n",
       "      <th>0</th>\n",
       "      <td>1.405522</td>\n",
       "      <td>-1.400568</td>\n",
       "      <td>0.537174</td>\n",
       "      <td>-0.017415</td>\n",
       "      <td>-1.015269</td>\n",
       "      <td>0.307739</td>\n",
       "      <td>-1.773236</td>\n",
       "      <td>1.747602</td>\n",
       "      <td>-0.804951</td>\n",
       "    </tr>\n",
       "    <tr>\n",
       "      <th>1</th>\n",
       "      <td>-0.690026</td>\n",
       "      <td>-0.461448</td>\n",
       "      <td>0.069245</td>\n",
       "      <td>0.189989</td>\n",
       "      <td>-0.054752</td>\n",
       "      <td>-0.456527</td>\n",
       "      <td>0.924843</td>\n",
       "      <td>-0.937565</td>\n",
       "      <td>-0.294198</td>\n",
       "    </tr>\n",
       "    <tr>\n",
       "      <th>2</th>\n",
       "      <td>-0.385375</td>\n",
       "      <td>0.081154</td>\n",
       "      <td>-1.011988</td>\n",
       "      <td>-0.774158</td>\n",
       "      <td>0.288125</td>\n",
       "      <td>1.336024</td>\n",
       "      <td>0.951689</td>\n",
       "      <td>-0.139098</td>\n",
       "      <td>-0.240769</td>\n",
       "    </tr>\n",
       "    <tr>\n",
       "      <th>3</th>\n",
       "      <td>2.225519</td>\n",
       "      <td>1.328097</td>\n",
       "      <td>-1.611664</td>\n",
       "      <td>-0.129525</td>\n",
       "      <td>-0.520002</td>\n",
       "      <td>2.308726</td>\n",
       "      <td>-1.249728</td>\n",
       "      <td>1.966536</td>\n",
       "      <td>-0.375064</td>\n",
       "    </tr>\n",
       "    <tr>\n",
       "      <th>4</th>\n",
       "      <td>-0.869401</td>\n",
       "      <td>0.451585</td>\n",
       "      <td>-0.166991</td>\n",
       "      <td>0.767356</td>\n",
       "      <td>1.003896</td>\n",
       "      <td>-0.927438</td>\n",
       "      <td>0.991959</td>\n",
       "      <td>-0.628481</td>\n",
       "      <td>0.876909</td>\n",
       "    </tr>\n",
       "  </tbody>\n",
       "</table>\n",
       "</div>"
      ],
      "text/plain": [
       "   child_mort   exports    health   imports    income  inflation  life_expec  \\\n",
       "0    1.405522 -1.400568  0.537174 -0.017415 -1.015269   0.307739   -1.773236   \n",
       "1   -0.690026 -0.461448  0.069245  0.189989 -0.054752  -0.456527    0.924843   \n",
       "2   -0.385375  0.081154 -1.011988 -0.774158  0.288125   1.336024    0.951689   \n",
       "3    2.225519  1.328097 -1.611664 -0.129525 -0.520002   2.308726   -1.249728   \n",
       "4   -0.869401  0.451585 -0.166991  0.767356  1.003896  -0.927438    0.991959   \n",
       "\n",
       "   total_fer      gdpp  \n",
       "0   1.747602 -0.804951  \n",
       "1  -0.937565 -0.294198  \n",
       "2  -0.139098 -0.240769  \n",
       "3   1.966536 -0.375064  \n",
       "4  -0.628481  0.876909  "
      ]
     },
     "execution_count": 10,
     "metadata": {},
     "output_type": "execute_result"
    }
   ],
   "source": [
    "std_country_data=(std_country_data-std_country_data.mean())/std_country_data.std()\n",
    "std_country_data.head()"
   ]
  },
  {
   "cell_type": "markdown",
   "metadata": {},
   "source": [
    "### Checking the Correlation Between features"
   ]
  },
  {
   "cell_type": "code",
   "execution_count": 11,
   "metadata": {},
   "outputs": [
    {
     "data": {
      "text/plain": [
       "<matplotlib.axes._subplots.AxesSubplot at 0x20fff98bd68>"
      ]
     },
     "execution_count": 11,
     "metadata": {},
     "output_type": "execute_result"
    },
    {
     "data": {
      "image/png": "[encoded data removed]",
      "text/plain": [
       "<Figure size 720x720 with 2 Axes>"
      ]
     },
     "metadata": {},
     "output_type": "display_data"
    }
   ],
   "source": [
    "plt.figure(figsize = (10,10))       \n",
    "sns.heatmap(std_country_data.corr(),annot = True)"
   ]
  },
  {
   "cell_type": "markdown",
   "metadata": {},
   "source": [
    "### PCA on the data"
   ]
  },
  {
   "cell_type": "code",
   "execution_count": 12,
   "metadata": {},
   "outputs": [],
   "source": [
    "pca = PCA(svd_solver='randomized', random_state=42)"
   ]
  },
  {
   "cell_type": "code",
   "execution_count": 13,
   "metadata": {},
   "outputs": [
    {
     "data": {
      "text/plain": [
       "PCA(copy=True, iterated_power='auto', n_components=None, random_state=42,\n",
       "  svd_solver='randomized', tol=0.0, whiten=False)"
      ]
     },
     "execution_count": 13,
     "metadata": {},
     "output_type": "execute_result"
    }
   ],
   "source": [
    "#Doing the PCA on the data\n",
    "pca.fit(std_country_data)"
   ]
  },
  {
   "cell_type": "code",
   "execution_count": 14,
   "metadata": {},
   "outputs": [
    {
     "data": {
      "text/plain": [
       "array([[-0.43161108,  0.21442328,  0.14974651,  0.12410657,  0.41661454,\n",
       "        -0.21682521,  0.4204011 , -0.42253783,  0.39249449],\n",
       "       [-0.09565962, -0.56202708, -0.04224377, -0.74903889,  0.11042981,\n",
       "         0.19220233,  0.18398688, -0.10201277,  0.13688228],\n",
       "       [ 0.00173987,  0.45255331, -0.68996329, -0.11954804,  0.20485286,\n",
       "         0.50843382,  0.03119363, -0.04407131,  0.03829411],\n",
       "       [ 0.33190723,  0.15327746,  0.40759422, -0.07731359,  0.41691255,\n",
       "         0.23863498, -0.25488132,  0.37036976,  0.5112066 ],\n",
       "       [-0.25304986,  0.00489365,  0.47920656,  0.17709922, -0.13293797,\n",
       "         0.74168141,  0.14217569, -0.13223655, -0.26358018],\n",
       "       [-0.07348316,  0.4157915 ,  0.24687113, -0.46472958,  0.01064667,\n",
       "        -0.1353538 , -0.53011816, -0.43331793, -0.23994796],\n",
       "       [ 0.13619759,  0.45923708,  0.2013838 , -0.37808404, -0.15718516,\n",
       "        -0.14983889,  0.59714017,  0.36974005, -0.21588328],\n",
       "       [-0.776751  ,  0.06665621, -0.04966433, -0.09457661, -0.10441188,\n",
       "        -0.04907035, -0.25618403,  0.54055177,  0.09832264],\n",
       "       [ 0.05540552,  0.14697443, -0.0016709 , -0.06355462, -0.73828311,\n",
       "         0.08556834,  0.00532624, -0.1943818 ,  0.61732506]])"
      ]
     },
     "execution_count": 14,
     "metadata": {},
     "output_type": "execute_result"
    }
   ],
   "source": [
    "pca.components_"
   ]
  },
  {
   "cell_type": "markdown",
   "metadata": {},
   "source": [
    "#### Looking at the screeplot to assess the number of needed principal components"
   ]
  },
  {
   "cell_type": "code",
   "execution_count": 15,
   "metadata": {},
   "outputs": [
    {
     "data": {
      "text/plain": [
       "array([0.4696844 , 0.16157921, 0.13475771, 0.09874537, 0.07571045,\n",
       "       0.02559704, 0.01884138, 0.00978787, 0.00529655])"
      ]
     },
     "execution_count": 15,
     "metadata": {},
     "output_type": "execute_result"
    }
   ],
   "source": [
    "pca.explained_variance_ratio_"
   ]
  },
  {
   "cell_type": "code",
   "execution_count": 16,
   "metadata": {},
   "outputs": [
    {
     "data": {
      "image/png": "[encoded data removed]",
      "text/plain": [
       "<Figure size 288x288 with 1 Axes>"
      ]
     },
     "metadata": {},
     "output_type": "display_data"
    }
   ],
   "source": [
    "#Making the screeplot - plotting the cumulative variance against the number of components\n",
    "%matplotlib inline\n",
    "fig = plt.figure(figsize = (4,4))\n",
    "plt.plot(np.cumsum(pca.explained_variance_ratio_))\n",
    "plt.xlabel('number of components')\n",
    "plt.ylabel('cumulative explained variance')\n",
    "plt.show()"
   ]
  },
  {
   "cell_type": "markdown",
   "metadata": {},
   "source": [
    "We can see 4 components are enough to show 95% variance"
   ]
  },
  {
   "cell_type": "code",
   "execution_count": 17,
   "metadata": {},
   "outputs": [],
   "source": [
    "from sklearn.decomposition import IncrementalPCA\n",
    "pca_final = IncrementalPCA(n_components=4)"
   ]
  },
  {
   "cell_type": "code",
   "execution_count": 18,
   "metadata": {},
   "outputs": [
    {
     "data": {
      "text/plain": [
       "(128, 4)"
      ]
     },
     "execution_count": 18,
     "metadata": {},
     "output_type": "execute_result"
    }
   ],
   "source": [
    "df_pca = pca_final.fit_transform(std_country_data)\n",
    "df_pca.shape"
   ]
  },
  {
   "cell_type": "markdown",
   "metadata": {},
   "source": [
    "### Checking correlation "
   ]
  },
  {
   "cell_type": "code",
   "execution_count": 19,
   "metadata": {},
   "outputs": [],
   "source": [
    "#creating correlation matrix for the principal components\n",
    "corrmat = np.corrcoef(df_pca.transpose())"
   ]
  },
  {
   "cell_type": "code",
   "execution_count": 20,
   "metadata": {},
   "outputs": [
    {
     "data": {
      "text/plain": [
       "<matplotlib.axes._subplots.AxesSubplot at 0x20ffff97c88>"
      ]
     },
     "execution_count": 20,
     "metadata": {},
     "output_type": "execute_result"
    },
    {
     "data": {
      "image/png": "[encoded data removed]",
      "text/plain": [
       "<Figure size 288x288 with 2 Axes>"
      ]
     },
     "metadata": {},
     "output_type": "display_data"
    }
   ],
   "source": [
    "#plotting the correlation matrix\n",
    "%matplotlib inline\n",
    "plt.figure(figsize = (4,4))\n",
    "sns.heatmap(corrmat,annot = True)"
   ]
  },
  {
   "cell_type": "markdown",
   "metadata": {},
   "source": [
    "We can see no correlation between features"
   ]
  },
  {
   "cell_type": "code",
   "execution_count": 21,
   "metadata": {},
   "outputs": [
    {
     "name": "stdout",
     "output_type": "stream",
     "text": [
      "max corr: 0.004219235954314818 , min corr:  -0.002475462210726548\n"
     ]
    }
   ],
   "source": [
    "# 1s -> 0s in diagonals\n",
    "corrmat_nodiag = corrmat - np.diagflat(corrmat.diagonal())\n",
    "print(\"max corr:\",corrmat_nodiag.max(), \", min corr: \", corrmat_nodiag.min(),)\n",
    "# we see that correlations are indeed very close to 0"
   ]
  },
  {
   "cell_type": "markdown",
   "metadata": {},
   "source": [
    "There is no correlation between any two components"
   ]
  },
  {
   "cell_type": "markdown",
   "metadata": {},
   "source": [
    "## K-Means For Clusters"
   ]
  },
  {
   "cell_type": "code",
   "execution_count": 22,
   "metadata": {},
   "outputs": [
    {
     "data": {
      "text/plain": [
       "KMeans(algorithm='auto', copy_x=True, init='k-means++', max_iter=30,\n",
       "    n_clusters=4, n_init=10, n_jobs=1, precompute_distances='auto',\n",
       "    random_state=None, tol=0.0001, verbose=0)"
      ]
     },
     "execution_count": 22,
     "metadata": {},
     "output_type": "execute_result"
    }
   ],
   "source": [
    "# Kmeans with K=4\n",
    "model_clus4 = KMeans(n_clusters = 4, max_iter=30)\n",
    "model_clus4.fit(std_country_data)"
   ]
  },
  {
   "cell_type": "markdown",
   "metadata": {},
   "source": [
    "## Silhouette Analysis"
   ]
  },
  {
   "cell_type": "code",
   "execution_count": 23,
   "metadata": {},
   "outputs": [],
   "source": [
    "from sklearn.metrics import silhouette_score\n",
    "sse_ = []\n",
    "for k in range(2, 4):\n",
    "    kmeans = KMeans(n_clusters=k).fit(std_country_data)\n",
    "    sse_.append([k, silhouette_score(std_country_data, kmeans.labels_)])"
   ]
  },
  {
   "cell_type": "code",
   "execution_count": 24,
   "metadata": {},
   "outputs": [
    {
     "data": {
      "image/png": "[encoded data removed]",
      "text/plain": [
       "<Figure size 432x288 with 1 Axes>"
      ]
     },
     "metadata": {},
     "output_type": "display_data"
    }
   ],
   "source": [
    "plt.plot(pd.DataFrame(sse_)[0], pd.DataFrame(sse_)[1]);"
   ]
  },
  {
   "cell_type": "markdown",
   "metadata": {},
   "source": [
    "## Sum of Squared Distances"
   ]
  },
  {
   "cell_type": "code",
   "execution_count": 25,
   "metadata": {},
   "outputs": [
    {
     "data": {
      "text/plain": [
       "[<matplotlib.lines.Line2D at 0x20f8126f3c8>]"
      ]
     },
     "execution_count": 25,
     "metadata": {},
     "output_type": "execute_result"
    },
    {
     "data": {
      "image/png": "[encoded data removed]",
      "text/plain": [
       "<Figure size 432x288 with 1 Axes>"
      ]
     },
     "metadata": {},
     "output_type": "display_data"
    }
   ],
   "source": [
    "# sum of squared distances\n",
    "ssd = []\n",
    "for num_clusters in list(range(1,21)):\n",
    "    model_clus = KMeans(n_clusters = num_clusters, max_iter=50)\n",
    "    model_clus.fit(std_country_data)\n",
    "    ssd.append(model_clus.inertia_)\n",
    "\n",
    "plt.plot(ssd)"
   ]
  },
  {
   "cell_type": "code",
   "execution_count": 26,
   "metadata": {},
   "outputs": [],
   "source": [
    "# analysis of clusters formed\n",
    "country_data.index = pd.RangeIndex(len(country_data.index))\n",
    "km_data = pd.concat([country_data, pd.Series(model_clus4.labels_)], axis=1)\n",
    "km_data.columns = ['country','child_mort','exports','health','imports',\n",
    "                           'income','inflation','life_expec','total_fer','gdpp', 'ClusterID']\n",
    "km_child_mort = \tpd.DataFrame(km_data.groupby([\"ClusterID\"]).child_mort.mean())\n",
    "km_exports = \tpd.DataFrame(km_data.groupby([\"ClusterID\"]).exports.mean())\n",
    "km_health = \tpd.DataFrame(km_data.groupby([\"ClusterID\"]).health.mean())\n",
    "km_imports = \tpd.DataFrame(km_data.groupby([\"ClusterID\"]).imports.mean())\n",
    "km_income = \tpd.DataFrame(km_data.groupby([\"ClusterID\"]).income.mean())\n",
    "km_inflation = \tpd.DataFrame(km_data.groupby([\"ClusterID\"]).inflation.mean())\n",
    "km_life_expec = \tpd.DataFrame(km_data.groupby([\"ClusterID\"]).life_expec.mean())\n",
    "km_total_fer = \tpd.DataFrame(km_data.groupby([\"ClusterID\"]).total_fer.mean())\n",
    "km_gdpp = \tpd.DataFrame(km_data.groupby([\"ClusterID\"]).gdpp.mean())"
   ]
  },
  {
   "cell_type": "code",
   "execution_count": 27,
   "metadata": {},
   "outputs": [
    {
     "data": {
      "text/html": [
       "<div>\n",
       "<style scoped>\n",
       "    .dataframe tbody tr th:only-of-type {\n",
       "        vertical-align: middle;\n",
       "    }\n",
       "\n",
       "    .dataframe tbody tr th {\n",
       "        vertical-align: top;\n",
       "    }\n",
       "\n",
       "    .dataframe thead th {\n",
       "        text-align: right;\n",
       "    }\n",
       "</style>\n",
       "<table border=\"1\" class=\"dataframe\">\n",
       "  <thead>\n",
       "    <tr style=\"text-align: right;\">\n",
       "      <th></th>\n",
       "      <th>ClusterID</th>\n",
       "      <th>child_mort_mean</th>\n",
       "      <th>exports_mean</th>\n",
       "      <th>health_mean</th>\n",
       "      <th>imports_mean</th>\n",
       "      <th>income_mean</th>\n",
       "      <th>inflation_mean</th>\n",
       "      <th>life_expec_mean</th>\n",
       "      <th>total_fer_mean</th>\n",
       "      <th>gdpp_mean</th>\n",
       "    </tr>\n",
       "  </thead>\n",
       "  <tbody>\n",
       "    <tr>\n",
       "      <th>0</th>\n",
       "      <td>0</td>\n",
       "      <td>88.164865</td>\n",
       "      <td>27.635405</td>\n",
       "      <td>6.097838</td>\n",
       "      <td>42.372973</td>\n",
       "      <td>3039.864865</td>\n",
       "      <td>10.437703</td>\n",
       "      <td>60.897297</td>\n",
       "      <td>5.181351</td>\n",
       "      <td>1435.567568</td>\n",
       "    </tr>\n",
       "    <tr>\n",
       "      <th>1</th>\n",
       "      <td>1</td>\n",
       "      <td>6.850000</td>\n",
       "      <td>49.780000</td>\n",
       "      <td>7.674000</td>\n",
       "      <td>50.375000</td>\n",
       "      <td>24855.000000</td>\n",
       "      <td>1.956550</td>\n",
       "      <td>77.395000</td>\n",
       "      <td>1.664000</td>\n",
       "      <td>19085.000000</td>\n",
       "    </tr>\n",
       "    <tr>\n",
       "      <th>2</th>\n",
       "      <td>2</td>\n",
       "      <td>22.482051</td>\n",
       "      <td>46.666667</td>\n",
       "      <td>6.612821</td>\n",
       "      <td>59.861538</td>\n",
       "      <td>9398.974359</td>\n",
       "      <td>4.856128</td>\n",
       "      <td>71.466667</td>\n",
       "      <td>2.398462</td>\n",
       "      <td>4550.153846</td>\n",
       "    </tr>\n",
       "    <tr>\n",
       "      <th>3</th>\n",
       "      <td>3</td>\n",
       "      <td>29.718750</td>\n",
       "      <td>27.437156</td>\n",
       "      <td>5.684063</td>\n",
       "      <td>27.408309</td>\n",
       "      <td>11112.812500</td>\n",
       "      <td>10.577500</td>\n",
       "      <td>71.756250</td>\n",
       "      <td>2.470000</td>\n",
       "      <td>5375.875000</td>\n",
       "    </tr>\n",
       "  </tbody>\n",
       "</table>\n",
       "</div>"
      ],
      "text/plain": [
       "   ClusterID  child_mort_mean  exports_mean  health_mean  imports_mean  \\\n",
       "0          0        88.164865     27.635405     6.097838     42.372973   \n",
       "1          1         6.850000     49.780000     7.674000     50.375000   \n",
       "2          2        22.482051     46.666667     6.612821     59.861538   \n",
       "3          3        29.718750     27.437156     5.684063     27.408309   \n",
       "\n",
       "    income_mean  inflation_mean  life_expec_mean  total_fer_mean     gdpp_mean  \n",
       "0   3039.864865       10.437703        60.897297        5.181351   1435.567568  \n",
       "1  24855.000000        1.956550        77.395000        1.664000  19085.000000  \n",
       "2   9398.974359        4.856128        71.466667        2.398462   4550.153846  \n",
       "3  11112.812500       10.577500        71.756250        2.470000   5375.875000  "
      ]
     },
     "execution_count": 27,
     "metadata": {},
     "output_type": "execute_result"
    }
   ],
   "source": [
    "df = pd.concat([pd.Series([0,1,2,3]), km_child_mort, km_exports, km_health, km_imports,km_income, km_inflation, km_life_expec,\n",
    "                km_total_fer, km_gdpp], axis=1)\n",
    "df.columns = [\"ClusterID\", \"child_mort_mean\",\"exports_mean\",\"health_mean\",\"imports_mean\",\"income_mean\",\"inflation_mean\",\n",
    "              \"life_expec_mean\",\"total_fer_mean\",\"gdpp_mean\"]\n",
    "df.head()"
   ]
  },
  {
   "cell_type": "markdown",
   "metadata": {},
   "source": [
    "We will pick the cluster with high child_mort_mean, low income_mean, low gdpp_mean."
   ]
  },
  {
   "cell_type": "code",
   "execution_count": 28,
   "metadata": {},
   "outputs": [
    {
     "data": {
      "text/html": [
       "<div>\n",
       "<style scoped>\n",
       "    .dataframe tbody tr th:only-of-type {\n",
       "        vertical-align: middle;\n",
       "    }\n",
       "\n",
       "    .dataframe tbody tr th {\n",
       "        vertical-align: top;\n",
       "    }\n",
       "\n",
       "    .dataframe thead th {\n",
       "        text-align: right;\n",
       "    }\n",
       "</style>\n",
       "<table border=\"1\" class=\"dataframe\">\n",
       "  <thead>\n",
       "    <tr style=\"text-align: right;\">\n",
       "      <th></th>\n",
       "      <th>country</th>\n",
       "    </tr>\n",
       "  </thead>\n",
       "  <tbody>\n",
       "    <tr>\n",
       "      <th>1</th>\n",
       "      <td>Albania</td>\n",
       "    </tr>\n",
       "    <tr>\n",
       "      <th>11</th>\n",
       "      <td>Belarus</td>\n",
       "    </tr>\n",
       "    <tr>\n",
       "      <th>12</th>\n",
       "      <td>Belize</td>\n",
       "    </tr>\n",
       "    <tr>\n",
       "      <th>14</th>\n",
       "      <td>Bhutan</td>\n",
       "    </tr>\n",
       "    <tr>\n",
       "      <th>16</th>\n",
       "      <td>Bosnia and Herzegovina</td>\n",
       "    </tr>\n",
       "  </tbody>\n",
       "</table>\n",
       "</div>"
      ],
      "text/plain": [
       "                   country\n",
       "1                  Albania\n",
       "11                 Belarus\n",
       "12                  Belize\n",
       "14                  Bhutan\n",
       "16  Bosnia and Herzegovina"
      ]
     },
     "execution_count": 28,
     "metadata": {},
     "output_type": "execute_result"
    }
   ],
   "source": [
    "# Getting Countries\n",
    "km_country = km_data.loc[km_data.ClusterID == 2,['country']]\n",
    "km_country.head()"
   ]
  },
  {
   "cell_type": "markdown",
   "metadata": {},
   "source": [
    "## Heirarchical Clustering"
   ]
  },
  {
   "cell_type": "code",
   "execution_count": 29,
   "metadata": {},
   "outputs": [
    {
     "data": {
      "image/png": "[encoded data removed]",
      "text/plain": [
       "<Figure size 432x288 with 1 Axes>"
      ]
     },
     "metadata": {},
     "output_type": "display_data"
    }
   ],
   "source": [
    "# heirarchical clustering\n",
    "mergings = linkage(std_country_data, method = \"single\", metric='euclidean')\n",
    "dendrogram(mergings)\n",
    "plt.show()"
   ]
  },
  {
   "cell_type": "code",
   "execution_count": 30,
   "metadata": {},
   "outputs": [
    {
     "data": {
      "image/png": "[encoded data removed]",
      "text/plain": [
       "<Figure size 432x288 with 1 Axes>"
      ]
     },
     "metadata": {},
     "output_type": "display_data"
    }
   ],
   "source": [
    "mergings = linkage(std_country_data, method = \"complete\", metric='euclidean')\n",
    "dendrogram(mergings)\n",
    "plt.show()"
   ]
  },
  {
   "cell_type": "code",
   "execution_count": 31,
   "metadata": {},
   "outputs": [],
   "source": [
    "clusterCut = pd.Series(cut_tree(mergings, n_clusters = 4).reshape(-1,))\n",
    "hc_data = pd.concat([country_data, clusterCut], axis=1)\n",
    "hc_data.columns = ['country','child_mort','exports','health','imports',\n",
    "                           'income','inflation','life_expec','total_fer','gdpp', 'ClusterID']\n",
    "\n",
    "#summarise\n",
    "hc_child_mort = \tpd.DataFrame(hc_data.groupby([\"ClusterID\"]).child_mort.mean())\n",
    "hc_exports = \tpd.DataFrame(hc_data.groupby([\"ClusterID\"]).exports.mean())\n",
    "hc_health = \tpd.DataFrame(hc_data.groupby([\"ClusterID\"]).health.mean())\n",
    "hc_imports = \tpd.DataFrame(hc_data.groupby([\"ClusterID\"]).imports.mean())\n",
    "hc_income = \tpd.DataFrame(hc_data.groupby([\"ClusterID\"]).income.mean())\n",
    "hc_inflation = \tpd.DataFrame(hc_data.groupby([\"ClusterID\"]).inflation.mean())\n",
    "hc_life_expec = \tpd.DataFrame(hc_data.groupby([\"ClusterID\"]).life_expec.mean())\n",
    "hc_total_fer = \tpd.DataFrame(hc_data.groupby([\"ClusterID\"]).total_fer.mean())\n",
    "hc_gdpp = \tpd.DataFrame(hc_data.groupby([\"ClusterID\"]).gdpp.mean())"
   ]
  },
  {
   "cell_type": "code",
   "execution_count": 32,
   "metadata": {},
   "outputs": [
    {
     "data": {
      "text/html": [
       "<div>\n",
       "<style scoped>\n",
       "    .dataframe tbody tr th:only-of-type {\n",
       "        vertical-align: middle;\n",
       "    }\n",
       "\n",
       "    .dataframe tbody tr th {\n",
       "        vertical-align: top;\n",
       "    }\n",
       "\n",
       "    .dataframe thead th {\n",
       "        text-align: right;\n",
       "    }\n",
       "</style>\n",
       "<table border=\"1\" class=\"dataframe\">\n",
       "  <thead>\n",
       "    <tr style=\"text-align: right;\">\n",
       "      <th></th>\n",
       "      <th>ClusterID</th>\n",
       "      <th>child_mort_mean</th>\n",
       "      <th>exports_mean</th>\n",
       "      <th>health_mean</th>\n",
       "      <th>imports_mean</th>\n",
       "      <th>income_mean</th>\n",
       "      <th>inflation_mean</th>\n",
       "      <th>life_expec_mean</th>\n",
       "      <th>total_fer_mean</th>\n",
       "      <th>gdpp_mean</th>\n",
       "    </tr>\n",
       "  </thead>\n",
       "  <tbody>\n",
       "    <tr>\n",
       "      <th>0</th>\n",
       "      <td>0</td>\n",
       "      <td>88.069231</td>\n",
       "      <td>26.104615</td>\n",
       "      <td>7.415385</td>\n",
       "      <td>44.507692</td>\n",
       "      <td>2736.346154</td>\n",
       "      <td>8.332115</td>\n",
       "      <td>58.542308</td>\n",
       "      <td>5.175385</td>\n",
       "      <td>1490.576923</td>\n",
       "    </tr>\n",
       "    <tr>\n",
       "      <th>1</th>\n",
       "      <td>1</td>\n",
       "      <td>34.406897</td>\n",
       "      <td>29.211707</td>\n",
       "      <td>5.631207</td>\n",
       "      <td>36.701136</td>\n",
       "      <td>8775.172414</td>\n",
       "      <td>8.476741</td>\n",
       "      <td>70.903448</td>\n",
       "      <td>2.847931</td>\n",
       "      <td>4235.431034</td>\n",
       "    </tr>\n",
       "    <tr>\n",
       "      <th>2</th>\n",
       "      <td>2</td>\n",
       "      <td>91.000000</td>\n",
       "      <td>68.320000</td>\n",
       "      <td>3.540000</td>\n",
       "      <td>47.320000</td>\n",
       "      <td>12702.000000</td>\n",
       "      <td>20.700000</td>\n",
       "      <td>62.500000</td>\n",
       "      <td>5.076000</td>\n",
       "      <td>6664.000000</td>\n",
       "    </tr>\n",
       "    <tr>\n",
       "      <th>3</th>\n",
       "      <td>3</td>\n",
       "      <td>12.474359</td>\n",
       "      <td>51.320513</td>\n",
       "      <td>7.225128</td>\n",
       "      <td>58.064103</td>\n",
       "      <td>17644.358974</td>\n",
       "      <td>3.625872</td>\n",
       "      <td>75.320513</td>\n",
       "      <td>1.857692</td>\n",
       "      <td>11963.333333</td>\n",
       "    </tr>\n",
       "  </tbody>\n",
       "</table>\n",
       "</div>"
      ],
      "text/plain": [
       "   ClusterID  child_mort_mean  exports_mean  health_mean  imports_mean  \\\n",
       "0          0        88.069231     26.104615     7.415385     44.507692   \n",
       "1          1        34.406897     29.211707     5.631207     36.701136   \n",
       "2          2        91.000000     68.320000     3.540000     47.320000   \n",
       "3          3        12.474359     51.320513     7.225128     58.064103   \n",
       "\n",
       "    income_mean  inflation_mean  life_expec_mean  total_fer_mean     gdpp_mean  \n",
       "0   2736.346154        8.332115        58.542308        5.175385   1490.576923  \n",
       "1   8775.172414        8.476741        70.903448        2.847931   4235.431034  \n",
       "2  12702.000000       20.700000        62.500000        5.076000   6664.000000  \n",
       "3  17644.358974        3.625872        75.320513        1.857692  11963.333333  "
      ]
     },
     "execution_count": 32,
     "metadata": {},
     "output_type": "execute_result"
    }
   ],
   "source": [
    "df = pd.concat([pd.Series([0,1,2,3]), hc_child_mort, hc_exports, hc_health, hc_imports,hc_income, hc_inflation, hc_life_expec,\n",
    "                hc_total_fer, hc_gdpp], axis=1)\n",
    "df.columns = [\"ClusterID\", \"child_mort_mean\",\"exports_mean\",\"health_mean\",\"imports_mean\",\"income_mean\",\"inflation_mean\",\n",
    "              \"life_expec_mean\",\"total_fer_mean\",\"gdpp_mean\"]\n",
    "df.head()"
   ]
  },
  {
   "cell_type": "code",
   "execution_count": 33,
   "metadata": {},
   "outputs": [
    {
     "data": {
      "text/html": [
       "<div>\n",
       "<style scoped>\n",
       "    .dataframe tbody tr th:only-of-type {\n",
       "        vertical-align: middle;\n",
       "    }\n",
       "\n",
       "    .dataframe tbody tr th {\n",
       "        vertical-align: top;\n",
       "    }\n",
       "\n",
       "    .dataframe thead th {\n",
       "        text-align: right;\n",
       "    }\n",
       "</style>\n",
       "<table border=\"1\" class=\"dataframe\">\n",
       "  <thead>\n",
       "    <tr style=\"text-align: right;\">\n",
       "      <th></th>\n",
       "      <th>country</th>\n",
       "    </tr>\n",
       "  </thead>\n",
       "  <tbody>\n",
       "    <tr>\n",
       "      <th>0</th>\n",
       "      <td>Afghanistan</td>\n",
       "    </tr>\n",
       "    <tr>\n",
       "      <th>13</th>\n",
       "      <td>Benin</td>\n",
       "    </tr>\n",
       "    <tr>\n",
       "      <th>17</th>\n",
       "      <td>Botswana</td>\n",
       "    </tr>\n",
       "    <tr>\n",
       "      <th>20</th>\n",
       "      <td>Burkina Faso</td>\n",
       "    </tr>\n",
       "    <tr>\n",
       "      <th>21</th>\n",
       "      <td>Burundi</td>\n",
       "    </tr>\n",
       "  </tbody>\n",
       "</table>\n",
       "</div>"
      ],
      "text/plain": [
       "         country\n",
       "0    Afghanistan\n",
       "13         Benin\n",
       "17      Botswana\n",
       "20  Burkina Faso\n",
       "21       Burundi"
      ]
     },
     "execution_count": 33,
     "metadata": {},
     "output_type": "execute_result"
    }
   ],
   "source": [
    "# Getting Countries\n",
    "hc_country = hc_data.loc[hc_data.ClusterID == 0,['country']]\n",
    "hc_country.head()"
   ]
  },
  {
   "cell_type": "code",
   "execution_count": 34,
   "metadata": {},
   "outputs": [],
   "source": [
    "#Common Countries\n",
    "c_country = set.intersection(set(km_country.country), set(hc_country.country))"
   ]
  },
  {
   "cell_type": "code",
   "execution_count": 35,
   "metadata": {},
   "outputs": [
    {
     "data": {
      "text/plain": [
       "{'Botswana', 'Namibia', 'Solomon Islands'}"
      ]
     },
     "execution_count": 35,
     "metadata": {},
     "output_type": "execute_result"
    }
   ],
   "source": [
    "c_country"
   ]
  },
  {
   "cell_type": "markdown",
   "metadata": {},
   "source": [
    "## We can consider these countries for help"
   ]
  }
 ],
 "metadata": {
  "kernelspec": {
   "display_name": "Python 3",
   "language": "python",
   "name": "python3"
  },
  "language_info": {
   "codemirror_mode": {
    "name": "ipython",
    "version": 3
   },
   "file_extension": ".py",
   "mimetype": "text/x-python",
   "name": "python",
   "nbconvert_exporter": "python",
   "pygments_lexer": "ipython3",
   "version": "3.6.5"
  }
 },
 "nbformat": 4,
 "nbformat_minor": 2
}
